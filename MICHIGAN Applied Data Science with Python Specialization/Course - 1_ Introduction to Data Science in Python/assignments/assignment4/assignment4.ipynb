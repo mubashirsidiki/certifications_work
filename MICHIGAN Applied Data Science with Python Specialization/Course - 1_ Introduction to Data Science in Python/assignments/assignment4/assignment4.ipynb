{
 "cells": [
  {
   "cell_type": "markdown",
   "metadata": {
    "deletable": false,
    "editable": false,
    "nbgrader": {
     "checksum": "48770f8b5f5d3062d3badd51fcafc401",
     "grade": false,
     "grade_id": "cell-a6c4f74309fc2379",
     "locked": true,
     "schema_version": 1,
     "solution": false
    }
   },
   "source": [
    "# Assignment 4\n",
    "## Description\n",
    "In this assignment you must read in a file of metropolitan regions and associated sports teams from [assets/wikipedia_data.html](assets/wikipedia_data.html) and answer some questions about each metropolitan region. Each of these regions may have one or more teams from the \"Big 4\": NFL (football, in [assets/nfl.csv](assets/nfl.csv)), MLB (baseball, in [assets/mlb.csv](assets/mlb.csv)), NBA (basketball, in [assets/nba.csv](assets/nba.csv) or NHL (hockey, in [assets/nhl.csv](assets/nhl.csv)). Please keep in mind that all questions are from the perspective of the metropolitan region, and that this file is the \"source of authority\" for the location of a given sports team. Thus teams which are commonly known by a different area (e.g. \"Oakland Raiders\") need to be mapped into the metropolitan region given (e.g. San Francisco Bay Area). This will require some human data understanding outside of the data you've been given (e.g. you will have to hand-code some names, and might need to google to find out where teams are)!\n",
    "\n",
    "For each sport I would like you to answer the question: **what is the win/loss ratio's correlation with the population of the city it is in?** Win/Loss ratio refers to the number of wins over the number of wins plus the number of losses. Remember that to calculate the correlation with [`pearsonr`](https://docs.scipy.org/doc/scipy/reference/generated/scipy.stats.pearsonr.html), so you are going to send in two ordered lists of values, the populations from the wikipedia_data.html file and the win/loss ratio for a given sport in the same order. Average the win/loss ratios for those cities which have multiple teams of a single sport. Each sport is worth an equal amount in this assignment (20%\\*4=80%) of the grade for this assignment. You should only use data **from year 2018** for your analysis -- this is important!\n",
    "\n",
    "## Notes\n",
    "\n",
    "1. Do not include data about the MLS or CFL in any of the work you are doing, we're only interested in the Big 4 in this assignment.\n",
    "2. I highly suggest that you first tackle the four correlation questions in order, as they are all similar and worth the majority of grades for this assignment. This is by design!\n",
    "3. It's fair game to talk with peers about high level strategy as well as the relationship between metropolitan areas and sports teams. However, do not post code solving aspects of the assignment (including such as dictionaries mapping areas to teams, or regexes which will clean up names).\n",
    "4. There may be more teams than the assert statements test, remember to collapse multiple teams in one city into a single value!"
   ]
  },
  {
   "cell_type": "markdown",
   "metadata": {
    "deletable": false,
    "editable": false,
    "nbgrader": {
     "checksum": "369ff9ecf0ee04640574205cbc697f94",
     "grade": false,
     "grade_id": "cell-712b2b5da63d4505",
     "locked": true,
     "schema_version": 1,
     "solution": false
    }
   },
   "source": [
    "## Question 1\n",
    "For this question, calculate the win/loss ratio's correlation with the population of the city it is in for the **NHL** using **2018** data."
   ]
  },
  {
   "cell_type": "code",
   "execution_count": 1,
   "metadata": {
    "deletable": false,
    "nbgrader": {
     "checksum": "1cac4803b02502929f5b1612d48db2b5",
     "grade": false,
     "grade_id": "cell-69b16e4386e58030",
     "locked": false,
     "schema_version": 1,
     "solution": true
    }
   },
   "outputs": [],
   "source": [
    "import pandas as pd\n",
    "import numpy as np\n",
    "import scipy.stats as stats\n",
    "import re\n",
    "\n",
    "nhl_df=pd.read_csv(\"assets/nhl.csv\")\n",
    "cities=pd.read_html(\"assets/wikipedia_data.html\")[1]\n",
    "cities=cities.iloc[:-1,[0,3,5,6,7,8]]\n",
    "\n",
    "def clean_nhl_df():\n",
    "    # load data\n",
    "    nhl_df=pd.read_csv(\"assets/nhl.csv\")\n",
    "    cities=pd.read_html(\"assets/wikipedia_data.html\")[1]\n",
    "    cities=cities.iloc[:-1,[0,3,5,6,7,8]]\n",
    "\n",
    "    # cleaning the cities dataframe\n",
    "    cities[\"NHL\"] = cities[\"NHL\"].apply(lambda x: re.sub(r\"\\[.+\\]\", \"\", x))\n",
    "    cities[\"NHL\"] = cities[\"NHL\"].replace({\"RangersIslandersDevils\": \"Rangers,Islanders,Devils\",\n",
    "                                           \"KingsDucks\": \"Kings,Ducks\",\n",
    "                                           \"Red Wings\": \"Red,Wings\", \n",
    "                                           \"Maple Leafs\": \"Maple,Leafs\", \n",
    "                                           \"Blue Jackets\": \"Blue,Jackets\",\n",
    "                                           \"Golden Knights\": \"Golden,Knights\" })\n",
    "    cities[\"NHL\"] = cities[\"NHL\"].apply(lambda x: x.split(\",\"))\n",
    "    cities = cities.explode(\"NHL\")\n",
    "\n",
    "    # cleaning the nhl_df dataframe\n",
    "    nhl_df = nhl_df[nhl_df[\"year\"] == 2018]\n",
    "    nhl_df[\"team\"] = nhl_df[\"team\"].apply(lambda x: x.replace(\"*\", \"\"))\n",
    "    nhl_df[\"team\"] = nhl_df[\"team\"].apply(lambda x: x.split(\" \")[-1])\n",
    "\n",
    "    # merge the dataframes\n",
    "    df = pd.merge(cities, nhl_df, left_on=\"NHL\", right_on=\"team\")\n",
    "    df = df[[\"Metropolitan area\", \"Population (2016 est.)[8]\", \"NHL\", \"team\", \"W\", \"L\"]]\n",
    "    df[\"W-L%\"] = df[\"W\"].astype(\"int\")/(df[\"W\"].astype(\"int\") + df[\"L\"].astype(\"int\"))\n",
    "    df[\"Population (2016 est.)[8]\"] = df[\"Population (2016 est.)[8]\"].astype(\"float\")\n",
    "    df[\"W-L%\"] = df[\"W-L%\"].astype(\"float\")\n",
    "\n",
    "    # drop duplicated columns\n",
    "    df.loc[df[\"Metropolitan area\"] == \"New York City\", \"W-L%\"] = 0.5182013333333334 # mean of NY W-L%\n",
    "    df.loc[df[\"Metropolitan area\"] == \"Los Angeles\", \"W-L%\"] = 0.6228945 # mean of LA W-L%\n",
    "    df = df.drop_duplicates(subset=\"Metropolitan area\").reset_index()\n",
    "    df = df.drop(columns=\"index\")\n",
    "    \n",
    "    return df\n",
    "\n",
    "def nhl_correlation(): \n",
    "    # YOUR CODE HERE\n",
    "#     raise NotImplementedError()\n",
    "    df = clean_nhl_df()\n",
    "\n",
    "    population_by_region = df[\"Population (2016 est.)[8]\"] # pass in metropolitan area population from cities\n",
    "    win_loss_by_region = df[\"W-L%\"] # pass in win/loss ratio from nhl_df in the same order as cities[\"Metropolitan area\"]\n",
    "\n",
    "    assert len(population_by_region) == len(win_loss_by_region), \"Q1: Your lists must be the same length\"\n",
    "    assert len(population_by_region) == 28, \"Q1: There should be 28 teams being analysed for NHL\"\n",
    "    \n",
    "    result = stats.pearsonr(population_by_region, win_loss_by_region)\n",
    "    \n",
    "    return result[0]"
   ]
  },
  {
   "cell_type": "code",
   "execution_count": 79,
   "metadata": {},
   "outputs": [
    {
     "data": {
      "text/plain": [
       "(0.012485959345532899, 0.9497191047673461)"
      ]
     },
     "execution_count": 79,
     "metadata": {},
     "output_type": "execute_result"
    }
   ],
   "source": [
    "nhl_correlation()"
   ]
  },
  {
   "cell_type": "code",
   "execution_count": null,
   "metadata": {
    "deletable": false,
    "editable": false,
    "nbgrader": {
     "checksum": "52a581df513c71153e105b93764cda4b",
     "grade": true,
     "grade_id": "cell-ebe0b2dfe1067e63",
     "locked": true,
     "points": 20,
     "schema_version": 1,
     "solution": false
    }
   },
   "outputs": [],
   "source": []
  },
  {
   "cell_type": "markdown",
   "metadata": {
    "deletable": false,
    "editable": false,
    "nbgrader": {
     "checksum": "988912cae4968d81473f46d783e79c16",
     "grade": false,
     "grade_id": "cell-cb964e690298b71d",
     "locked": true,
     "schema_version": 1,
     "solution": false
    }
   },
   "source": [
    "## Question 2\n",
    "For this question, calculate the win/loss ratio's correlation with the population of the city it is in for the **NBA** using **2018** data."
   ]
  },
  {
   "cell_type": "code",
   "execution_count": 2,
   "metadata": {
    "deletable": false,
    "nbgrader": {
     "checksum": "9394222aafc8ccab0a228098ba0d6010",
     "grade": false,
     "grade_id": "cell-5a5f21279e3d3572",
     "locked": false,
     "schema_version": 1,
     "solution": true
    }
   },
   "outputs": [],
   "source": [
    "import pandas as pd\n",
    "import numpy as np\n",
    "import scipy.stats as stats\n",
    "import re\n",
    "\n",
    "nba_df=pd.read_csv(\"assets/nba.csv\")\n",
    "cities=pd.read_html(\"assets/wikipedia_data.html\")[1]\n",
    "cities=cities.iloc[:-1,[0,3,5,6,7,8]]\n",
    "\n",
    "def clean_nba_df():\n",
    "    # load data\n",
    "    nba_df=pd.read_csv(\"assets/nba.csv\")\n",
    "    cities=pd.read_html(\"assets/wikipedia_data.html\")[1]\n",
    "    cities=cities.iloc[:-1,[0,3,5,6,7,8]]\n",
    "    \n",
    "    # cleaning the cities dataframe\n",
    "    cities[\"NBA\"] = cities[\"NBA\"].apply(lambda x: re.sub(r\"\\[.+\\]\", \"\", x))\n",
    "    cities[\"NBA\"] = cities[\"NBA\"].replace({\"KnicksNets\": \"Knicks,Nets\",\n",
    "                                           \"LakersClippers\": \"Lakers,Clippers\",\n",
    "                                           \"Trail Blazers\": \"Trail,Blazers\"})\n",
    "    cities[\"NBA\"] = cities[\"NBA\"].apply(lambda x: x.split(\",\"))\n",
    "    cities = cities.explode(\"NBA\")\n",
    "\n",
    "    # cleaning the nhl_df dataframe\n",
    "    nba_df = nba_df[nba_df[\"year\"] == 2018]\n",
    "    nba_df[\"team\"] = nba_df[\"team\"].apply(lambda x: re.sub(r\"(\\*)*\\s\\(\\d+\\)\", \"\", x))\n",
    "    nba_df[\"team\"] = nba_df[\"team\"].apply(lambda x: x.split(\" \")[-1])\n",
    "\n",
    "    # merge the dataframes\n",
    "    df = pd.merge(cities, nba_df, left_on=\"NBA\", right_on=\"team\")\n",
    "    df = df.rename(columns={\"W/L%\": \"W-L%\"})\n",
    "    df = df[[\"Metropolitan area\", \"Population (2016 est.)[8]\", \"NBA\", \"team\", \"W\", \"L\", \"W-L%\"]]\n",
    "    df[\"Population (2016 est.)[8]\"] = df[\"Population (2016 est.)[8]\"].astype(\"float\")\n",
    "    df[\"W-L%\"] = df[\"W-L%\"].astype(\"float\")\n",
    "    \n",
    "    # drop duplicated columns\n",
    "    df.loc[df[\"Metropolitan area\"] == \"New York City\", \"W-L%\"] = 0.34750000000000003 # mean of NY W-L%\n",
    "    df.loc[df[\"Metropolitan area\"] == \"Los Angeles\", \"W-L%\"] = 0.46950000000000003 # mean of LA W-L%\n",
    "    df = df.drop_duplicates(subset=\"Metropolitan area\").reset_index()\n",
    "    df = df.drop(columns=\"index\")\n",
    "    \n",
    "    return df\n",
    "\n",
    "def nba_correlation():\n",
    "    # YOUR CODE HERE\n",
    "#     raise NotImplementedError()\n",
    "    df = clean_nba_df()\n",
    "\n",
    "    population_by_region = df[\"Population (2016 est.)[8]\"] # pass in metropolitan area population from cities\n",
    "    win_loss_by_region = df[\"W-L%\"] # pass in win/loss ratio from nhl_df in the same order as cities[\"Metropolitan area\"]\n",
    "\n",
    "    assert len(population_by_region) == len(win_loss_by_region), \"Q2: Your lists must be the same length\"\n",
    "    assert len(population_by_region) == 28, \"Q2: There should be 28 teams being analysed for NBA\"\n",
    "\n",
    "    result = stats.pearsonr(population_by_region, win_loss_by_region)\n",
    "    \n",
    "    return result[0]"
   ]
  },
  {
   "cell_type": "code",
   "execution_count": 83,
   "metadata": {},
   "outputs": [
    {
     "data": {
      "text/plain": [
       "(-0.1913120079933679, 0.32945066086218266)"
      ]
     },
     "execution_count": 83,
     "metadata": {},
     "output_type": "execute_result"
    }
   ],
   "source": [
    "nba_correlation()"
   ]
  },
  {
   "cell_type": "code",
   "execution_count": null,
   "metadata": {
    "deletable": false,
    "editable": false,
    "nbgrader": {
     "checksum": "bbdeb8eb22f525a34c10dc8798324e42",
     "grade": true,
     "grade_id": "cell-e573b2b4a282b470",
     "locked": true,
     "points": 20,
     "schema_version": 1,
     "solution": false
    }
   },
   "outputs": [],
   "source": []
  },
  {
   "cell_type": "markdown",
   "metadata": {
    "deletable": false,
    "editable": false,
    "nbgrader": {
     "checksum": "1a1a5809f675ca033086422007cd73bd",
     "grade": false,
     "grade_id": "cell-96e15e4335df78f4",
     "locked": true,
     "schema_version": 1,
     "solution": false
    }
   },
   "source": [
    "## Question 3\n",
    "For this question, calculate the win/loss ratio's correlation with the population of the city it is in for the **MLB** using **2018** data."
   ]
  },
  {
   "cell_type": "code",
   "execution_count": 3,
   "metadata": {
    "deletable": false,
    "nbgrader": {
     "checksum": "27e8c0da6c9fa0dffc10488314335b6c",
     "grade": false,
     "grade_id": "cell-33b00fc3f3467b0c",
     "locked": false,
     "schema_version": 1,
     "solution": true
    }
   },
   "outputs": [],
   "source": [
    "import pandas as pd\n",
    "import numpy as np\n",
    "import scipy.stats as stats\n",
    "import re\n",
    "\n",
    "mlb_df=pd.read_csv(\"assets/mlb.csv\")\n",
    "cities=pd.read_html(\"assets/wikipedia_data.html\")[1]\n",
    "cities=cities.iloc[:-1,[0,3,5,6,7,8]]\n",
    "\n",
    "def clean_mlb_df():\n",
    "    # load data\n",
    "    mlb_df=pd.read_csv(\"assets/mlb.csv\")\n",
    "    cities=pd.read_html(\"assets/wikipedia_data.html\")[1]\n",
    "    cities=cities.iloc[:-1,[0,3,5,6,7,8]]\n",
    "\n",
    "    # cleaning the cities dataframe\n",
    "    cities[\"MLB\"] = cities[\"MLB\"].apply(lambda x: re.sub(r\"\\[.+\\]\", \"\", x))\n",
    "    cities[\"MLB\"] = cities[\"MLB\"].replace({\"Blue Jays\": \"Blue,Jays\", \n",
    "                                           \"CubsWhite Sox\": \"Cubs,White,Sox\", \n",
    "                                           \"DodgersAngels\": \"Dodgers,Angels\", \n",
    "                                           \"GiantsAthletics\": \"Giants,Athletics\", \n",
    "                                           \"YankeesMets\": \"Yankees,Mets\",\n",
    "                                           \"Red Sox\": \"Red,Sox\"})\n",
    "    cities[\"MLB\"] = cities[\"MLB\"].apply(lambda x: x.split(\",\"))\n",
    "    cities = cities.explode(\"MLB\")\n",
    "\n",
    "    # cleaning the nhl_df dataframe\n",
    "    mlb_df = mlb_df[mlb_df[\"year\"] == 2018]\n",
    "    mlb_df[\"team\"] = mlb_df[\"team\"].apply(lambda x: x.split(\" \")[-1])\n",
    "\n",
    "    # merge the dataframes\n",
    "    df = pd.merge(cities, mlb_df, left_on=\"MLB\", right_on=\"team\")\n",
    "    df = df[[\"Metropolitan area\", \"Population (2016 est.)[8]\", \"MLB\", \"team\", \"W\", \"L\", \"W-L%\"]]\n",
    "    df[\"Population (2016 est.)[8]\"] = df[\"Population (2016 est.)[8]\"].astype(\"float\")\n",
    "    df[\"W-L%\"] = df[\"W-L%\"].astype(\"float\")\n",
    "\n",
    "    # drop duplicated columns\n",
    "    df.loc[df[\"Metropolitan area\"] == \"New York City\", \"W-L%\"] = 0.546 # mean of NY W-L%\n",
    "    df.loc[df[\"Metropolitan area\"] == \"Los Angeles\", \"W-L%\"] = 0.5289999999999999 # mean of LA W-L%\n",
    "    df.loc[df[\"Metropolitan area\"] == \"San Francisco Bay Area\", \"W-L%\"] = 0.525 # mean of SF W-L%\n",
    "    df.loc[df[\"Metropolitan area\"] == \"Chicago\", \"W-L%\"] = 0.482769 # mean of CH W-L%\n",
    "    df.loc[df[\"Metropolitan area\"] == \"Boston\", \"W-L%\"] = 0.666667 # mean of BO W-L%\n",
    "    df = df.drop_duplicates(subset=\"Metropolitan area\").reset_index()\n",
    "    df = df.drop(columns=\"index\")\n",
    "    \n",
    "    return df\n",
    "\n",
    "def mlb_correlation(): \n",
    "    # YOUR CODE HERE\n",
    "#     raise NotImplementedError()\n",
    "    df = clean_mlb_df()\n",
    "\n",
    "    population_by_region = df[\"Population (2016 est.)[8]\"] # pass in metropolitan area population from cities\n",
    "    win_loss_by_region = df[\"W-L%\"] # pass in win/loss ratio from mlb_df in the same order as cities[\"Metropolitan area\"]\n",
    "\n",
    "    assert len(population_by_region) == len(win_loss_by_region), \"Q3: Your lists must be the same length\"\n",
    "    assert len(population_by_region) == 26, \"Q3: There should be 26 teams being analysed for MLB\"\n",
    "\n",
    "    result = stats.pearsonr(population_by_region, win_loss_by_region)\n",
    "    \n",
    "    return result[0]"
   ]
  },
  {
   "cell_type": "code",
   "execution_count": 85,
   "metadata": {},
   "outputs": [
    {
     "data": {
      "text/plain": [
       "(0.20338443455649996, 0.31899585645672773)"
      ]
     },
     "execution_count": 85,
     "metadata": {},
     "output_type": "execute_result"
    }
   ],
   "source": [
    "mlb_correlation()"
   ]
  },
  {
   "cell_type": "code",
   "execution_count": null,
   "metadata": {
    "deletable": false,
    "editable": false,
    "nbgrader": {
     "checksum": "cda33b094ba19ccc37a481e0dd29e0bc",
     "grade": true,
     "grade_id": "cell-764d4476f425c5a2",
     "locked": true,
     "points": 20,
     "schema_version": 1,
     "solution": false
    }
   },
   "outputs": [],
   "source": []
  },
  {
   "cell_type": "markdown",
   "metadata": {
    "deletable": false,
    "editable": false,
    "nbgrader": {
     "checksum": "6977a6da9ed6d8b7a0b7e37bbeda709b",
     "grade": false,
     "grade_id": "cell-793df6c04dfb126e",
     "locked": true,
     "schema_version": 1,
     "solution": false
    }
   },
   "source": [
    "## Question 4\n",
    "For this question, calculate the win/loss ratio's correlation with the population of the city it is in for the **NFL** using **2018** data."
   ]
  },
  {
   "cell_type": "code",
   "execution_count": 4,
   "metadata": {
    "deletable": false,
    "nbgrader": {
     "checksum": "c4914ad1e119278ec2bd567c52640b66",
     "grade": false,
     "grade_id": "cell-8ccebc209aeec8d9",
     "locked": false,
     "schema_version": 1,
     "solution": true
    }
   },
   "outputs": [],
   "source": [
    "import pandas as pd\n",
    "import numpy as np\n",
    "import scipy.stats as stats\n",
    "import re\n",
    "\n",
    "nfl_df=pd.read_csv(\"assets/nfl.csv\")\n",
    "cities=pd.read_html(\"assets/wikipedia_data.html\")[1]\n",
    "cities=cities.iloc[:-1,[0,3,5,6,7,8]]\n",
    "\n",
    "def clean_nfl_df():\n",
    "    # load data\n",
    "    nfl_df=pd.read_csv(\"assets/nfl.csv\")\n",
    "    cities=pd.read_html(\"assets/wikipedia_data.html\")[1]\n",
    "    cities=cities.iloc[:-1,[0,3,5,6,7,8]]\n",
    "\n",
    "    # cleaning the cities dataframe\n",
    "    cities[\"NFL\"] = cities[\"NFL\"].apply(lambda x: re.sub(r\"\\[.+\\]\", \"\", x))\n",
    "    cities[\"NFL\"] = cities[\"NFL\"].replace({\"GiantsJets\": \"Giants,Jets\",\n",
    "                                           \"RamsChargers\": \"Rams,Chargers\",\n",
    "                                           \"49ersRaiders\": \"49ers,Raiders\"\n",
    "                                           })\n",
    "    cities[\"NFL\"] = cities[\"NFL\"].apply(lambda x: x.split(\",\"))\n",
    "    cities = cities.explode(\"NFL\")\n",
    "\n",
    "    # cleaning the nhl_df dataframe\n",
    "    nfl_df = nfl_df[nfl_df[\"year\"] == 2018]\n",
    "    nfl_df[\"team\"] = nfl_df[\"team\"].apply(lambda x: re.sub(r\"(\\*|\\+)\", \"\", x))\n",
    "    nfl_df[\"team\"] = nfl_df[\"team\"].apply(lambda x: x.split(\" \")[-1])\n",
    "\n",
    "    # merge the dataframes\n",
    "    df = pd.merge(cities, nfl_df, left_on=\"NFL\", right_on=\"team\")\n",
    "    df = df[[\"Metropolitan area\", \"Population (2016 est.)[8]\", \"NFL\", \"team\", \"W\", \"L\", \"W-L%\"]]\n",
    "    df[\"Population (2016 est.)[8]\"] = df[\"Population (2016 est.)[8]\"].astype(\"float\")\n",
    "    df[\"W-L%\"] = df[\"W-L%\"].astype(\"float\")\n",
    "\n",
    "    # drop duplicated columns\n",
    "    df.loc[df[\"Metropolitan area\"] == \"New York City\", \"W-L%\"] = 0.2815 # mean of NY W-L%\n",
    "    df.loc[df[\"Metropolitan area\"] == \"Los Angeles\", \"W-L%\"] = 0.7815 # mean of LA W-L%\n",
    "    df.loc[df[\"Metropolitan area\"] == \"San Francisco Bay Area\", \"W-L%\"] = 0.25 # mean of SF W-L%\n",
    "    df = df.drop_duplicates(subset=\"Metropolitan area\").reset_index()\n",
    "    df = df.drop(columns=\"index\")\n",
    "    \n",
    "    return df\n",
    "\n",
    "def nfl_correlation(): \n",
    "    # YOUR CODE HERE\n",
    "#     raise NotImplementedError()\n",
    "    df = clean_nfl_df()\n",
    "    \n",
    "    population_by_region = df[\"Population (2016 est.)[8]\"] # pass in metropolitan area population from cities\n",
    "    win_loss_by_region = df[\"W-L%\"] # pass in win/loss ratio from nfl_df in the same order as cities[\"Metropolitan area\"]\n",
    "\n",
    "    assert len(population_by_region) == len(win_loss_by_region), \"Q4: Your lists must be the same length\"\n",
    "    assert len(population_by_region) == 29, \"Q4: There should be 29 teams being analysed for NFL\"\n",
    "\n",
    "    result = stats.pearsonr(population_by_region, win_loss_by_region)\n",
    "    \n",
    "    return result[0]"
   ]
  },
  {
   "cell_type": "code",
   "execution_count": 87,
   "metadata": {},
   "outputs": [
    {
     "data": {
      "text/plain": [
       "(0.004282141436393008, 0.9824114740736553)"
      ]
     },
     "execution_count": 87,
     "metadata": {},
     "output_type": "execute_result"
    }
   ],
   "source": [
    "nfl_correlation()"
   ]
  },
  {
   "cell_type": "code",
   "execution_count": null,
   "metadata": {
    "deletable": false,
    "editable": false,
    "nbgrader": {
     "checksum": "e9415d6399aa49e3a1a60813afdefa3b",
     "grade": true,
     "grade_id": "cell-de7b148b9554dbda",
     "locked": true,
     "points": 20,
     "schema_version": 1,
     "solution": false
    }
   },
   "outputs": [],
   "source": []
  },
  {
   "cell_type": "markdown",
   "metadata": {
    "deletable": false,
    "editable": false,
    "nbgrader": {
     "checksum": "b02d5cd3273f561e4ae939bb2a41740c",
     "grade": false,
     "grade_id": "cell-97b49d8639e908c4",
     "locked": true,
     "schema_version": 1,
     "solution": false
    }
   },
   "source": [
    "## Question 5\n",
    "In this question I would like you to explore the hypothesis that **given that an area has two sports teams in different sports, those teams will perform the same within their respective sports**. How I would like to see this explored is with a series of paired t-tests (so use [`ttest_rel`](https://docs.scipy.org/doc/scipy/reference/generated/scipy.stats.ttest_rel.html)) between all pairs of sports. Are there any sports where we can reject the null hypothesis? Again, average values where a sport has multiple teams in one region. Remember, you will only be including, for each sport, cities which have teams engaged in that sport, drop others as appropriate. This question is worth 20% of the grade for this assignment."
   ]
  },
  {
   "cell_type": "code",
   "execution_count": 5,
   "metadata": {
    "deletable": false,
    "nbgrader": {
     "checksum": "92b8bedc9c49fca1ef724ab5ce526db5",
     "grade": false,
     "grade_id": "cell-92f25f44b8d1179f",
     "locked": false,
     "schema_version": 1,
     "solution": true
    }
   },
   "outputs": [],
   "source": [
    "import pandas as pd\n",
    "import numpy as np\n",
    "import scipy.stats as stats\n",
    "import re\n",
    "\n",
    "mlb_df=pd.read_csv(\"assets/mlb.csv\")\n",
    "nhl_df=pd.read_csv(\"assets/nhl.csv\")\n",
    "nba_df=pd.read_csv(\"assets/nba.csv\")\n",
    "nfl_df=pd.read_csv(\"assets/nfl.csv\")\n",
    "cities=pd.read_html(\"assets/wikipedia_data.html\")[1]\n",
    "cities=cities.iloc[:-1,[0,3,5,6,7,8]]\n",
    "\n",
    "# clean the dataframes\n",
    "def clean_dfs():\n",
    "    nfl_df = clean_nfl_df()\n",
    "    nba_df = clean_nba_df()\n",
    "    nhl_df = clean_nhl_df()   \n",
    "    mlb_df = clean_mlb_df()\n",
    "    \n",
    "    \n",
    "    nfl_df = nfl_df[[\"Metropolitan area\", \"W-L%\"]]\n",
    "    nba_df = nba_df[[\"Metropolitan area\", \"W-L%\"]]\n",
    "    nhl_df = nhl_df[[\"Metropolitan area\", \"W-L%\"]]  \n",
    "    mlb_df = mlb_df[[\"Metropolitan area\", \"W-L%\"]]\n",
    "    \n",
    "    return (nfl_df, nba_df, nhl_df, mlb_df)\n",
    "\n",
    "def calculate_p_values(leagues):\n",
    "    p_values = pd.DataFrame(columns=leagues.keys(), index=leagues.keys())\n",
    "    for (league_name1, league_df1) in leagues.items():\n",
    "        for (league_name2, league_df2) in leagues.items():\n",
    "            merged_league = pd.merge(league_df1, league_df2, on=\"Metropolitan area\")\n",
    "            p_values.loc[league_name1, league_name2] = stats.ttest_rel(merged_league[\"W-L%_x\"], merged_league[\"W-L%_y\"])[1]\n",
    "            \n",
    "    return p_values\n",
    "\n",
    "def sports_team_performance():\n",
    "    # YOUR CODE HERE\n",
    "#     raise NotImplementedError()\n",
    "    (nfl_df, nba_df, nhl_df, mlb_df) = clean_dfs()\n",
    "    \n",
    "    leagues = {\"NFL\": nfl_df, \"NBA\": nba_df, \"NHL\": nhl_df, \"MLB\": mlb_df}\n",
    "    p_values_dict = calculate_p_values(leagues)\n",
    "    p_values = pd.DataFrame(p_values_dict).astype(\"float\")\n",
    "    \n",
    "#     # Note: p_values is a full dataframe, so df.loc[\"NFL\",\"NBA\"] should be the same as df.loc[\"NBA\",\"NFL\"] and\n",
    "#     # df.loc[\"NFL\",\"NFL\"] should return np.nan\n",
    "#     sports = ['NFL', 'NBA', 'NHL', 'MLB']\n",
    "#     p_values = pd.DataFrame({k:np.nan for k in sports}, index=sports)\n",
    "    \n",
    "    assert abs(p_values.loc[\"NBA\", \"NHL\"] - 0.02) <= 1e-2, \"The NBA-NFL p-value should be around 0.02\"\n",
    "    assert abs(p_values.loc[\"MLB\", \"NFL\"] - 0.80) <= 1e-2, \"The MLB-NFL p-value should be around 0.80\"\n",
    "    return p_values"
   ]
  },
  {
   "cell_type": "code",
   "execution_count": 153,
   "metadata": {},
   "outputs": [
    {
     "ename": "AssertionError",
     "evalue": "The MLB-NFL p-value should be around 0.80",
     "output_type": "error",
     "traceback": [
      "\u001b[0;31m---------------------------------------------------------------------------\u001b[0m",
      "\u001b[0;31mAssertionError\u001b[0m                            Traceback (most recent call last)",
      "\u001b[0;32m<ipython-input-153-1c2712aa0a33>\u001b[0m in \u001b[0;36m<module>\u001b[0;34m\u001b[0m\n\u001b[0;32m----> 1\u001b[0;31m \u001b[0msports_team_performance\u001b[0m\u001b[0;34m(\u001b[0m\u001b[0;34m)\u001b[0m\u001b[0;34m\u001b[0m\u001b[0;34m\u001b[0m\u001b[0m\n\u001b[0m",
      "\u001b[0;32m<ipython-input-152-049ab3493235>\u001b[0m in \u001b[0;36msports_team_performance\u001b[0;34m()\u001b[0m\n\u001b[1;32m     49\u001b[0m \u001b[0;34m\u001b[0m\u001b[0m\n\u001b[1;32m     50\u001b[0m     \u001b[0;32massert\u001b[0m \u001b[0mabs\u001b[0m\u001b[0;34m(\u001b[0m\u001b[0mp_values\u001b[0m\u001b[0;34m.\u001b[0m\u001b[0mloc\u001b[0m\u001b[0;34m[\u001b[0m\u001b[0;34m\"NBA\"\u001b[0m\u001b[0;34m,\u001b[0m \u001b[0;34m\"NHL\"\u001b[0m\u001b[0;34m]\u001b[0m \u001b[0;34m-\u001b[0m \u001b[0;36m0.02\u001b[0m\u001b[0;34m)\u001b[0m \u001b[0;34m<=\u001b[0m \u001b[0;36m1e-2\u001b[0m\u001b[0;34m,\u001b[0m \u001b[0;34m\"The NBA-NFL p-value should be around 0.02\"\u001b[0m\u001b[0;34m\u001b[0m\u001b[0;34m\u001b[0m\u001b[0m\n\u001b[0;32m---> 51\u001b[0;31m     \u001b[0;32massert\u001b[0m \u001b[0mabs\u001b[0m\u001b[0;34m(\u001b[0m\u001b[0mp_values\u001b[0m\u001b[0;34m.\u001b[0m\u001b[0mloc\u001b[0m\u001b[0;34m[\u001b[0m\u001b[0;34m\"MLB\"\u001b[0m\u001b[0;34m,\u001b[0m \u001b[0;34m\"NFL\"\u001b[0m\u001b[0;34m]\u001b[0m \u001b[0;34m-\u001b[0m \u001b[0;36m0.80\u001b[0m\u001b[0;34m)\u001b[0m \u001b[0;34m<=\u001b[0m \u001b[0;36m1e-2\u001b[0m\u001b[0;34m,\u001b[0m \u001b[0;34m\"The MLB-NFL p-value should be around 0.80\"\u001b[0m\u001b[0;34m\u001b[0m\u001b[0;34m\u001b[0m\u001b[0m\n\u001b[0m\u001b[1;32m     52\u001b[0m     \u001b[0;32mreturn\u001b[0m \u001b[0mp_values\u001b[0m\u001b[0;34m\u001b[0m\u001b[0;34m\u001b[0m\u001b[0m\n",
      "\u001b[0;31mAssertionError\u001b[0m: The MLB-NFL p-value should be around 0.80"
     ]
    }
   ],
   "source": [
    "sports_team_performance()"
   ]
  },
  {
   "cell_type": "code",
   "execution_count": 154,
   "metadata": {},
   "outputs": [
    {
     "data": {
      "text/html": [
       "<div>\n",
       "<style scoped>\n",
       "    .dataframe tbody tr th:only-of-type {\n",
       "        vertical-align: middle;\n",
       "    }\n",
       "\n",
       "    .dataframe tbody tr th {\n",
       "        vertical-align: top;\n",
       "    }\n",
       "\n",
       "    .dataframe thead th {\n",
       "        text-align: right;\n",
       "    }\n",
       "</style>\n",
       "<table border=\"1\" class=\"dataframe\">\n",
       "  <thead>\n",
       "    <tr style=\"text-align: right;\">\n",
       "      <th></th>\n",
       "      <th>NFL</th>\n",
       "      <th>NBA</th>\n",
       "      <th>NHL</th>\n",
       "      <th>MLB</th>\n",
       "    </tr>\n",
       "  </thead>\n",
       "  <tbody>\n",
       "    <tr>\n",
       "      <th>NFL</th>\n",
       "      <td>NaN</td>\n",
       "      <td>0.908078</td>\n",
       "      <td>0.030318</td>\n",
       "      <td>0.73784</td>\n",
       "    </tr>\n",
       "    <tr>\n",
       "      <th>NBA</th>\n",
       "      <td>0.908078</td>\n",
       "      <td>NaN</td>\n",
       "      <td>0.021395</td>\n",
       "      <td>0.901802</td>\n",
       "    </tr>\n",
       "    <tr>\n",
       "      <th>NHL</th>\n",
       "      <td>0.030318</td>\n",
       "      <td>0.021395</td>\n",
       "      <td>NaN</td>\n",
       "      <td>0.00109</td>\n",
       "    </tr>\n",
       "    <tr>\n",
       "      <th>MLB</th>\n",
       "      <td>0.73784</td>\n",
       "      <td>0.901802</td>\n",
       "      <td>0.00109</td>\n",
       "      <td>NaN</td>\n",
       "    </tr>\n",
       "  </tbody>\n",
       "</table>\n",
       "</div>"
      ],
      "text/plain": [
       "          NFL       NBA       NHL       MLB\n",
       "NFL       NaN  0.908078  0.030318   0.73784\n",
       "NBA  0.908078       NaN  0.021395  0.901802\n",
       "NHL  0.030318  0.021395       NaN   0.00109\n",
       "MLB   0.73784  0.901802   0.00109       NaN"
      ]
     },
     "execution_count": 154,
     "metadata": {},
     "output_type": "execute_result"
    }
   ],
   "source": [
    "(nfl_df, nba_df, nhl_df, mlb_df) = clean_dfs()   \n",
    "leagues = {\"NFL\": nfl_df, \"NBA\": nba_df, \"NHL\": nhl_df, \"MLB\": mlb_df}\n",
    "p_values_dict = calculate_p_values(leagues)\n",
    "p_values_dict"
   ]
  },
  {
   "cell_type": "code",
   "execution_count": 148,
   "metadata": {},
   "outputs": [
    {
     "name": "stdout",
     "output_type": "stream",
     "text": [
      "0.021394905873287847\n",
      "0.7378398965270105\n"
     ]
    }
   ],
   "source": [
    "print(p_values.loc[\"NBA\", \"NHL\"])\n",
    "print(p_values.loc[\"MLB\", \"NFL\"])"
   ]
  },
  {
   "cell_type": "code",
   "execution_count": 150,
   "metadata": {},
   "outputs": [
    {
     "name": "stdout",
     "output_type": "stream",
     "text": [
      "NFL_NFL_29\n",
      "NFL_NBA_19\n",
      "NFL_NHL_17\n",
      "NFL_MLB_22\n",
      "NBA_NFL_19\n",
      "NBA_NBA_28\n",
      "NBA_NHL_14\n",
      "NBA_MLB_18\n",
      "NHL_NFL_17\n",
      "NHL_NBA_14\n",
      "NHL_NHL_28\n",
      "NHL_MLB_17\n",
      "MLB_NFL_22\n",
      "MLB_NBA_18\n",
      "MLB_NHL_17\n",
      "MLB_MLB_26\n"
     ]
    }
   ],
   "source": [
    "(nhl_df, nba_df, mlb_df, nfl_df) = clean_dfs()\n",
    "leagues = {\"NFL\": nfl_df, \"NBA\": nba_df, \"NHL\": nhl_df, \"MLB\": mlb_df}\n",
    "for (league_name1, league_df1) in leagues.items():\n",
    "        for (league_name2, league_df2) in leagues.items():\n",
    "            merged_league = pd.merge(league_df1, league_df2, on=\"Metropolitan area\")\n",
    "            print(f\"{league_name1}_{league_name2}_{len(merged_league)}\")"
   ]
  },
  {
   "cell_type": "code",
   "execution_count": null,
   "metadata": {
    "deletable": false,
    "editable": false,
    "nbgrader": {
     "checksum": "2a596ab421a45cc01168d10e8fbb8f89",
     "grade": true,
     "grade_id": "cell-fb4b9cb5ff4570a6",
     "locked": true,
     "points": 20,
     "schema_version": 1,
     "solution": false
    }
   },
   "outputs": [],
   "source": []
  }
 ],
 "metadata": {
  "coursera": {
   "schema_names": [
    "mooc_adswpy_1_v2_assignment4"
   ]
  },
  "kernelspec": {
   "display_name": "Python 3",
   "language": "python",
   "name": "python3"
  },
  "language_info": {
   "codemirror_mode": {
    "name": "ipython",
    "version": 3
   },
   "file_extension": ".py",
   "mimetype": "text/x-python",
   "name": "python",
   "nbconvert_exporter": "python",
   "pygments_lexer": "ipython3",
   "version": "3.7.6"
  }
 },
 "nbformat": 4,
 "nbformat_minor": 1
}
