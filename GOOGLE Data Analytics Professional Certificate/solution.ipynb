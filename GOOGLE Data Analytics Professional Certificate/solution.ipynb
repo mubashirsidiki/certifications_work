{
 "cells": [
  {
   "cell_type": "markdown",
   "id": "b331fdf0",
   "metadata": {
    "papermill": {
     "duration": 0.104716,
     "end_time": "2021-11-24T18:35:28.677378",
     "exception": false,
     "start_time": "2021-11-24T18:35:28.572662",
     "status": "completed"
    },
    "tags": []
   },
   "source": [
    "# **Case Study:** How Does A Bike-Share Navigate Speedy Success?"
   ]
  },
  {
   "cell_type": "markdown",
   "id": "577a4e2a",
   "metadata": {
    "papermill": {
     "duration": 0.104411,
     "end_time": "2021-11-24T18:35:29.092664",
     "exception": false,
     "start_time": "2021-11-24T18:35:28.988253",
     "status": "completed"
    },
    "tags": []
   },
   "source": [
    "# **Introduction:**\n",
    "Google Data Analytics Capstone project - Case Study 1. This case study focuses on Cyclistic, a bike-share company in Chicago. \n",
    "\n",
    "The project will follow the steps provided in the course:\n",
    "\n",
    "•\tThe steps in order are as follows: Ask, Prepare, Process, Analyse, Share, and Act\n",
    "\n",
    "•\tAt each step there will be a roadmap which will include:\n",
    "\n",
    "o\tGuiding questions and their answers\n",
    "\n",
    "o\tKey tasks\n",
    "\n",
    "o\tDeliverable’s\n",
    "\n",
    "o\tCode, if required\n"
   ]
  },
  {
   "cell_type": "markdown",
   "id": "f9384533",
   "metadata": {
    "papermill": {
     "duration": 0.104144,
     "end_time": "2021-11-24T18:35:29.300603",
     "exception": false,
     "start_time": "2021-11-24T18:35:29.196459",
     "status": "completed"
    },
    "tags": []
   },
   "source": [
    "# Ask\n",
    "## Background context on the case study:\n",
    "You are a junior data analyst working in the marketing analyst team at Cyclistic, a bike-share company in Chicago. The director of marketing believes the company’s future success depends on maximizing the number of annual memberships. Therefore, your team wants to understand how casual riders and annual members use Cyclistic bikes differently. From these insights, your team will design a new marketing strategy to convert casual riders into annual members. But first, Cyclistic executives must approve your recommendations, so they must be backed up with compelling data insights and professional data visualizations.\n",
    "\n",
    "## Characters and teams:\n",
    "**● Cyclistic:** A bike-share program that features more than 5,800 bicycles and 600 docking stations. Cyclistic sets itself apart by also offering reclining bikes, hand tricycles, and cargo bikes, making bike-share more inclusive to people with disabilities and riders who can’t use a standard two-wheeled bike. The majority of riders opt for traditional bikes; about 8% of riders use the assistive options. Cyclistic users are more likely to ride for leisure, but about 30% use them to commute to work each day.\n",
    "\n",
    "**● Lily Moreno:** The director of marketing and your manager. Moreno is responsible for the development of campaigns and initiatives to promote the bike-share program. These may include email, social media, and other channels.\n",
    "\n",
    "**● Cyclistic marketing analytics team:** A team of data analysts who are responsible for collecting, analyzing, and reporting data that helps guide Cyclistic marketing strategy. You joined this team six months ago and have been busy learning about Cyclistic’s mission and business goals — as well as how you, as a junior data analyst, can help Cyclistic achieve them.\n",
    "\n",
    "**● Cyclistic executive team:** The notoriously detail-oriented executive team will decide whether to approve the recommended marketing program.\n",
    "\n",
    "## Guiding Questions:\n",
    "**•\tWhat is the problem you are trying to solve?**\n",
    "\n",
    "The main objective is to determine profiles for the annual members and the casual riders and use the information to create a marketing strategy to assist in turning casual riders into annual members.\n",
    "\n",
    "**•\tHow can your insights drive business decisions?**\n",
    "\n",
    "The insights will aid the marketing team in increasing the amount of annual members.\n",
    "\n",
    "## Key tasks\n",
    "**•\tIdentify the business task** - completed\n",
    "\n",
    "**•\tConsider key stakeholders** - completed\n",
    "\n",
    "## Deliverable\n",
    "**•\tA clear statement of the business task**\n",
    "\n",
    "Determine the differences between annual members and casual riders and which marketing strategy to pursue to increase annual members.\n",
    "\n"
   ]
  },
  {
   "cell_type": "markdown",
   "id": "a909d26e",
   "metadata": {
    "papermill": {
     "duration": 0.103506,
     "end_time": "2021-11-24T18:35:29.508003",
     "exception": false,
     "start_time": "2021-11-24T18:35:29.404497",
     "status": "completed"
    },
    "tags": []
   },
   "source": [
    "# Prepare\n",
    "The dataset that is used in this project is available at this link. The license that has made this dataset available can be viewed here.\n",
    "\n",
    "## Guiding questions\n",
    "**•\tWhere is your data located?**\n",
    "\n",
    "The data is stored on Kaggle as a dataset named \"tripdata_2020\".\n",
    "\n",
    "**•\tHow is the data organized?**\n",
    "\n",
    "The data consists of 10 csv files. The files for the months January, February and March are combined into one file for Q1 the remaining 9 files are for the following indiviudal months. \n",
    "\n",
    "**•\tAre there issues with bias or credibility in this data? Does your data ROCCC?**\n",
    "\n",
    "The data is first-party data collected by Cyclist so there is low chance of bias but due to it being the companies own data the credibility is very high. The data also does ROCCC as it is reliable, original, comprehensive, current, and cited.\n",
    "\n",
    "**•\tHow are you addressing licensing, privacy, security, and accessibility?**\n",
    "\n",
    "The data is open source and provided by the company it is however covered by their license (provided above). The data also does not include any personal information regarding the riders to protect their privacy.\n",
    "\n",
    "**•\tHow did you verify the data’s integrity?**\n",
    "\n",
    "The data was examined and all of them are consistent regarding the columns (amount and names) and the data types are consistent throughout.\n",
    "\n",
    "**•\tHow does it help you answer your question?**\n",
    "\n",
    "The data will allow us to examine annual members and casual riders to determine if there are any key characteristics regarding the riders, bike usage, and needs.\n",
    "\n",
    "**•\tAre there any problems with the data?**\n",
    "\n",
    "More information regarding the units of measure, stations and riders would add to the data’s value.\n",
    "\n",
    "## Key tasks:\n",
    "**1.\tDownload data and store it appropriately** - completed\n",
    "\n",
    "**2.\tIdentify how it’s organised** - completed\n",
    "\n",
    "**3.\tSort and filter the data.** - completed\n",
    "\n",
    "**4.\tDetermine the credibility of the data.** - completed  \n",
    "\n",
    "## Deliverable\n",
    "*** A description of all data sources used**\n",
    "\n",
    "The data source consists of 10 CSV files. There is one file for the first quarter thereafter each month starting with April is an individual file. The period starts at January 2020 and runs until December 2020."
   ]
  },
  {
   "cell_type": "markdown",
   "id": "301f4dab",
   "metadata": {
    "papermill": {
     "duration": 0.103217,
     "end_time": "2021-11-24T18:35:29.714139",
     "exception": false,
     "start_time": "2021-11-24T18:35:29.610922",
     "status": "completed"
    },
    "tags": []
   },
   "source": [
    "# Process\n",
    "\n",
    "The individual CSV files will be combined into 1 to make it easier to manipulate and analyse. The combined file will be cleaned and additional columns will be added.\n",
    "\n"
   ]
  },
  {
   "cell_type": "markdown",
   "id": "4ae2fd10",
   "metadata": {
    "papermill": {
     "duration": 0.104718,
     "end_time": "2021-11-24T18:35:29.922193",
     "exception": false,
     "start_time": "2021-11-24T18:35:29.817475",
     "status": "completed"
    },
    "tags": []
   },
   "source": [
    "## Guiding questions\n",
    "\n",
    "* What tools are you choosing and why? \n",
    "\n",
    "I am using R as the dataset is to large for spreadsheets and R will allow indepth analysis and manipulation\n",
    "\n",
    "* Have you ensured your data’s integrity? \n",
    "\n",
    "I examined the columns after any changes and determined that the datatypes were consisitent after manipulation\n",
    "\n",
    "* What steps have you taken to ensure that your data is clean? \n",
    "\n",
    "The NA's and duplicates were removed, the time and dates were formatted.\n",
    "\n",
    "* How can you verify that your data is clean and ready to analyze? \n",
    "\n",
    "The steps shown in this section of the notebook show all cleaning steps and a summary of the data to ensure it is ready.\n",
    "\n",
    "* Have you documented your cleaning process so you can review and share those results?\n",
    "\n",
    "The cleaning process has been documented throughout"
   ]
  },
  {
   "cell_type": "markdown",
   "id": "a7d9c51d",
   "metadata": {
    "papermill": {
     "duration": 0.102474,
     "end_time": "2021-11-24T18:35:30.128888",
     "exception": false,
     "start_time": "2021-11-24T18:35:30.026414",
     "status": "completed"
    },
    "tags": []
   },
   "source": [
    "## Key tasks\n",
    "\n",
    "1. Check the data for errors. - completed\n",
    "2. Choose your tools. - completed\n",
    "3. Transform the data so you can work with it effectively. - completed\n",
    "4. Document the cleaning process. - completed"
   ]
  },
  {
   "cell_type": "markdown",
   "id": "0f4acc93",
   "metadata": {
    "papermill": {
     "duration": 0.103264,
     "end_time": "2021-11-24T18:35:30.337089",
     "exception": false,
     "start_time": "2021-11-24T18:35:30.233825",
     "status": "completed"
    },
    "tags": []
   },
   "source": [
    "## Deliverable\n",
    "\n",
    "Documentation of any cleaning or manipulation of data"
   ]
  },
  {
   "cell_type": "markdown",
   "id": "ae796bd4",
   "metadata": {
    "papermill": {
     "duration": 0.102726,
     "end_time": "2021-11-24T18:35:30.542393",
     "exception": false,
     "start_time": "2021-11-24T18:35:30.439667",
     "status": "completed"
    },
    "tags": []
   },
   "source": [
    "## Code"
   ]
  },
  {
   "cell_type": "markdown",
   "id": "1f89426b",
   "metadata": {
    "papermill": {
     "duration": 0.103168,
     "end_time": "2021-11-24T18:35:30.749082",
     "exception": false,
     "start_time": "2021-11-24T18:35:30.645914",
     "status": "completed"
    },
    "tags": []
   },
   "source": [
    "### Packages"
   ]
  },
  {
   "cell_type": "code",
   "execution_count": 1,
   "id": "684acde0",
   "metadata": {
    "execution": {
     "iopub.execute_input": "2021-11-24T18:35:30.963898Z",
     "iopub.status.busy": "2021-11-24T18:35:30.961820Z",
     "iopub.status.idle": "2021-11-24T18:35:32.287922Z",
     "shell.execute_reply": "2021-11-24T18:35:32.286382Z"
    },
    "papermill": {
     "duration": 1.435928,
     "end_time": "2021-11-24T18:35:32.288091",
     "exception": false,
     "start_time": "2021-11-24T18:35:30.852163",
     "status": "completed"
    },
    "tags": [],
    "vscode": {
     "languageId": "r"
    }
   },
   "outputs": [
    {
     "name": "stderr",
     "output_type": "stream",
     "text": [
      "── \u001b[1mAttaching packages\u001b[22m ─────────────────────────────────────── tidyverse 1.3.1 ──\n",
      "\n",
      "\u001b[32m✔\u001b[39m \u001b[34mggplot2\u001b[39m 3.3.5     \u001b[32m✔\u001b[39m \u001b[34mpurrr  \u001b[39m 0.3.4\n",
      "\u001b[32m✔\u001b[39m \u001b[34mtibble \u001b[39m 3.1.5     \u001b[32m✔\u001b[39m \u001b[34mdplyr  \u001b[39m 1.0.7\n",
      "\u001b[32m✔\u001b[39m \u001b[34mtidyr  \u001b[39m 1.1.4     \u001b[32m✔\u001b[39m \u001b[34mstringr\u001b[39m 1.4.0\n",
      "\u001b[32m✔\u001b[39m \u001b[34mreadr  \u001b[39m 2.0.2     \u001b[32m✔\u001b[39m \u001b[34mforcats\u001b[39m 0.5.1\n",
      "\n",
      "── \u001b[1mConflicts\u001b[22m ────────────────────────────────────────── tidyverse_conflicts() ──\n",
      "\u001b[31m✖\u001b[39m \u001b[34mdplyr\u001b[39m::\u001b[32mfilter()\u001b[39m masks \u001b[34mstats\u001b[39m::filter()\n",
      "\u001b[31m✖\u001b[39m \u001b[34mdplyr\u001b[39m::\u001b[32mlag()\u001b[39m    masks \u001b[34mstats\u001b[39m::lag()\n",
      "\n",
      "\n",
      "Attaching package: ‘janitor’\n",
      "\n",
      "\n",
      "The following objects are masked from ‘package:stats’:\n",
      "\n",
      "    chisq.test, fisher.test\n",
      "\n",
      "\n",
      "\n",
      "Attaching package: ‘lubridate’\n",
      "\n",
      "\n",
      "The following objects are masked from ‘package:base’:\n",
      "\n",
      "    date, intersect, setdiff, union\n",
      "\n",
      "\n"
     ]
    }
   ],
   "source": [
    "library(tidyverse)\n",
    "library(janitor)\n",
    "library(lubridate)\n",
    "library(ggplot2)"
   ]
  },
  {
   "cell_type": "markdown",
   "id": "5a7d2be7",
   "metadata": {
    "papermill": {
     "duration": 0.10922,
     "end_time": "2021-11-24T18:35:32.507380",
     "exception": false,
     "start_time": "2021-11-24T18:35:32.398160",
     "status": "completed"
    },
    "tags": []
   },
   "source": [
    "### Importing the indiviudal CSV files and combining into one"
   ]
  },
  {
   "cell_type": "code",
   "execution_count": 2,
   "id": "e0336eb8",
   "metadata": {
    "execution": {
     "iopub.execute_input": "2021-11-24T18:35:32.754590Z",
     "iopub.status.busy": "2021-11-24T18:35:32.727899Z",
     "iopub.status.idle": "2021-11-24T18:36:54.724383Z",
     "shell.execute_reply": "2021-11-24T18:36:54.722810Z"
    },
    "papermill": {
     "duration": 82.107366,
     "end_time": "2021-11-24T18:36:54.724537",
     "exception": false,
     "start_time": "2021-11-24T18:35:32.617171",
     "status": "completed"
    },
    "tags": [],
    "vscode": {
     "languageId": "r"
    }
   },
   "outputs": [],
   "source": [
    "#Importing the CSV files\n",
    "\n",
    "tripdata_2020_Q1 <- read.csv(\"dataset/Tripdata_2020_Q1.csv\")\n",
    "tripdata_202004 <- read.csv(\"dataset/tripdata_202004.csv\")\n",
    "tripdata_202005 <- read.csv(\"dataset/tripdata_202005.csv\")\n",
    "tripdata_202006 <- read.csv(\"dataset/tripdata_202006.csv\")\n",
    "tripdata_202007 <- read.csv(\"dataset/tripdata_202007.csv\")\n",
    "tripdata_202008 <- read.csv(\"dataset/tripdata_202008.csv\")\n",
    "tripdata_202009 <- read.csv(\"dataset/tripdata_202009.csv\")\n",
    "tripdata_202010 <- read.csv(\"dataset/tripdata_202010.csv\")\n",
    "tripdata_202011 <- read.csv(\"dataset/tripdata_202011.csv\")\n",
    "tripdata_202012 <- read.csv(\"dataset/tripdata_202012.csv\")"
   ]
  },
  {
   "cell_type": "markdown",
   "id": "3a6b1f12",
   "metadata": {
    "papermill": {
     "duration": 0.109099,
     "end_time": "2021-11-24T18:36:54.946109",
     "exception": false,
     "start_time": "2021-11-24T18:36:54.837010",
     "status": "completed"
    },
    "tags": []
   },
   "source": [
    "### Examining the individual datasets"
   ]
  },
  {
   "cell_type": "code",
   "execution_count": 3,
   "id": "05136dbe",
   "metadata": {
    "execution": {
     "iopub.execute_input": "2021-11-24T18:36:55.170660Z",
     "iopub.status.busy": "2021-11-24T18:36:55.169026Z",
     "iopub.status.idle": "2021-11-24T18:36:55.558910Z",
     "shell.execute_reply": "2021-11-24T18:36:55.556945Z"
    },
    "papermill": {
     "duration": 0.503955,
     "end_time": "2021-11-24T18:36:55.559055",
     "exception": false,
     "start_time": "2021-11-24T18:36:55.055100",
     "status": "completed"
    },
    "tags": [],
    "vscode": {
     "languageId": "r"
    }
   },
   "outputs": [
    {
     "name": "stdout",
     "output_type": "stream",
     "text": [
      "'data.frame':\t426887 obs. of  13 variables:\n",
      " $ ride_id           : chr  \"EACB19130B0CDA4A\" \"8FED874C809DC021\" \"789F3C21E472CA96\" \"C9A388DAC6ABF313\" ...\n",
      " $ rideable_type     : chr  \"docked_bike\" \"docked_bike\" \"docked_bike\" \"docked_bike\" ...\n",
      " $ started_at        : chr  \"2020-01-21 20:06:59\" \"2020-01-30 14:22:39\" \"2020-01-09 19:29:26\" \"2020-01-06 16:17:07\" ...\n",
      " $ ended_at          : chr  \"2020-01-21 20:14:30\" \"2020-01-30 14:26:22\" \"2020-01-09 19:32:17\" \"2020-01-06 16:25:56\" ...\n",
      " $ start_station_name: chr  \"Western Ave & Leland Ave\" \"Clark St & Montrose Ave\" \"Broadway & Belmont Ave\" \"Clark St & Randolph St\" ...\n",
      " $ start_station_id  : int  239 234 296 51 66 212 96 96 212 38 ...\n",
      " $ end_station_name  : chr  \"Clark St & Leland Ave\" \"Southport Ave & Irving Park Rd\" \"Wilton Ave & Belmont Ave\" \"Fairbanks Ct & Grand Ave\" ...\n",
      " $ end_station_id    : int  326 318 117 24 212 96 212 212 96 100 ...\n",
      " $ start_lat         : num  42 42 41.9 41.9 41.9 ...\n",
      " $ start_lng         : num  -87.7 -87.7 -87.6 -87.6 -87.6 ...\n",
      " $ end_lat           : num  42 42 41.9 41.9 41.9 ...\n",
      " $ end_lng           : num  -87.7 -87.7 -87.7 -87.6 -87.6 ...\n",
      " $ member_casual     : chr  \"member\" \"member\" \"member\" \"member\" ...\n",
      "'data.frame':\t84776 obs. of  13 variables:\n",
      " $ ride_id           : chr  \"A847FADBBC638E45\" \"5405B80E996FF60D\" \"5DD24A79A4E006F4\" \"2A59BBDF5CDBA725\" ...\n",
      " $ rideable_type     : chr  \"docked_bike\" \"docked_bike\" \"docked_bike\" \"docked_bike\" ...\n",
      " $ started_at        : chr  \"2020-04-26 17:45:14\" \"2020-04-17 17:08:54\" \"2020-04-01 17:54:13\" \"2020-04-07 12:50:19\" ...\n",
      " $ ended_at          : chr  \"2020-04-26 18:12:03\" \"2020-04-17 17:17:03\" \"2020-04-01 18:08:36\" \"2020-04-07 13:02:31\" ...\n",
      " $ start_station_name: chr  \"Eckhart Park\" \"Drake Ave & Fullerton Ave\" \"McClurg Ct & Erie St\" \"California Ave & Division St\" ...\n",
      " $ start_station_id  : int  86 503 142 216 125 173 35 434 627 377 ...\n",
      " $ end_station_name  : chr  \"Lincoln Ave & Diversey Pkwy\" \"Kosciuszko Park\" \"Indiana Ave & Roosevelt Rd\" \"Wood St & Augusta Blvd\" ...\n",
      " $ end_station_id    : int  152 499 255 657 323 35 635 382 359 508 ...\n",
      " $ start_lat         : num  41.9 41.9 41.9 41.9 41.9 ...\n",
      " $ start_lng         : num  -87.7 -87.7 -87.6 -87.7 -87.6 ...\n",
      " $ end_lat           : num  41.9 41.9 41.9 41.9 42 ...\n",
      " $ end_lng           : num  -87.7 -87.7 -87.6 -87.7 -87.7 ...\n",
      " $ member_casual     : chr  \"member\" \"member\" \"member\" \"member\" ...\n",
      "'data.frame':\t200274 obs. of  13 variables:\n",
      " $ ride_id           : chr  \"02668AD35674B983\" \"7A50CCAF1EDDB28F\" \"2FFCDFDB91FE9A52\" \"58991CF1DB75BA84\" ...\n",
      " $ rideable_type     : chr  \"docked_bike\" \"docked_bike\" \"docked_bike\" \"docked_bike\" ...\n",
      " $ started_at        : chr  \"2020-05-27 10:03:52\" \"2020-05-25 10:47:11\" \"2020-05-02 14:11:03\" \"2020-05-02 16:25:36\" ...\n",
      " $ ended_at          : chr  \"2020-05-27 10:16:49\" \"2020-05-25 11:05:40\" \"2020-05-02 15:48:21\" \"2020-05-02 16:39:28\" ...\n",
      " $ start_station_name: chr  \"Franklin St & Jackson Blvd\" \"Clark St & Wrightwood Ave\" \"Kedzie Ave & Milwaukee Ave\" \"Clarendon Ave & Leland Ave\" ...\n",
      " $ start_station_id  : int  36 340 260 251 261 206 261 180 331 219 ...\n",
      " $ end_station_name  : chr  \"Wabash Ave & Grand Ave\" \"Clark St & Leland Ave\" \"Kedzie Ave & Milwaukee Ave\" \"Lake Shore Dr & Wellington Ave\" ...\n",
      " $ end_station_id    : int  199 326 260 157 206 22 261 180 300 305 ...\n",
      " $ start_lat         : num  41.9 41.9 41.9 42 41.9 ...\n",
      " $ start_lng         : num  -87.6 -87.6 -87.7 -87.7 -87.7 ...\n",
      " $ end_lat           : num  41.9 42 41.9 41.9 41.8 ...\n",
      " $ end_lng           : num  -87.6 -87.7 -87.7 -87.6 -87.6 ...\n",
      " $ member_casual     : chr  \"member\" \"casual\" \"casual\" \"casual\" ...\n",
      "'data.frame':\t343005 obs. of  13 variables:\n",
      " $ ride_id           : chr  \"8CD5DE2C2B6C4CFC\" \"9A191EB2C751D85D\" \"F37D14B0B5659BCF\" \"C41237B506E85FA1\" ...\n",
      " $ rideable_type     : chr  \"docked_bike\" \"docked_bike\" \"docked_bike\" \"docked_bike\" ...\n",
      " $ started_at        : chr  \"2020-06-13 23:24:48\" \"2020-06-26 07:26:10\" \"2020-06-23 17:12:41\" \"2020-06-20 01:09:35\" ...\n",
      " $ ended_at          : chr  \"2020-06-13 23:36:55\" \"2020-06-26 07:31:58\" \"2020-06-23 17:21:14\" \"2020-06-20 01:28:24\" ...\n",
      " $ start_station_name: chr  \"Wilton Ave & Belmont Ave\" \"Federal St & Polk St\" \"Daley Center Plaza\" \"Broadway & Cornelia Ave\" ...\n",
      " $ start_station_id  : int  117 41 81 303 327 327 41 115 338 84 ...\n",
      " $ end_station_name  : chr  \"Damen Ave & Clybourn Ave\" \"Daley Center Plaza\" \"State St & Harrison St\" \"Broadway & Berwyn Ave\" ...\n",
      " $ end_station_id    : int  163 81 5 294 117 117 81 303 164 53 ...\n",
      " $ start_lat         : num  41.9 41.9 41.9 41.9 41.9 ...\n",
      " $ start_lng         : num  -87.7 -87.6 -87.6 -87.6 -87.7 ...\n",
      " $ end_lat           : num  41.9 41.9 41.9 42 41.9 ...\n",
      " $ end_lng           : num  -87.7 -87.6 -87.6 -87.7 -87.7 ...\n",
      " $ member_casual     : chr  \"casual\" \"member\" \"member\" \"casual\" ...\n",
      "'data.frame':\t551480 obs. of  13 variables:\n",
      " $ ride_id           : chr  \"762198876D69004D\" \"BEC9C9FBA0D4CF1B\" \"D2FD8EA432C77EC1\" \"54AE594E20B35881\" ...\n",
      " $ rideable_type     : chr  \"docked_bike\" \"docked_bike\" \"docked_bike\" \"docked_bike\" ...\n",
      " $ started_at        : chr  \"2020-07-09 15:22:02\" \"2020-07-24 23:56:30\" \"2020-07-08 19:49:07\" \"2020-07-17 19:06:42\" ...\n",
      " $ ended_at          : chr  \"2020-07-09 15:25:52\" \"2020-07-25 00:20:17\" \"2020-07-08 19:56:22\" \"2020-07-17 19:27:38\" ...\n",
      " $ start_station_name: chr  \"Ritchie Ct & Banks St\" \"Halsted St & Roscoe St\" \"Lake Shore Dr & Diversey Pkwy\" \"LaSalle St & Illinois St\" ...\n",
      " $ start_station_id  : int  180 299 329 181 268 635 113 211 176 31 ...\n",
      " $ end_station_name  : chr  \"Wells St & Evergreen Ave\" \"Broadway & Ridge Ave\" \"Clark St & Wellington Ave\" \"Clark St & Armitage Ave\" ...\n",
      " $ end_station_id    : int  291 461 156 94 301 289 140 31 191 142 ...\n",
      " $ start_lat         : num  41.9 41.9 41.9 41.9 41.9 ...\n",
      " $ start_lng         : num  -87.6 -87.6 -87.6 -87.6 -87.6 ...\n",
      " $ end_lat           : num  41.9 42 41.9 41.9 41.9 ...\n",
      " $ end_lng           : num  -87.6 -87.7 -87.6 -87.6 -87.6 ...\n",
      " $ member_casual     : chr  \"member\" \"member\" \"casual\" \"casual\" ...\n",
      "'data.frame':\t622361 obs. of  13 variables:\n",
      " $ ride_id           : chr  \"322BD23D287743ED\" \"2A3AEF1AB9054D8B\" \"67DC1D133E8B5816\" \"C79FBBD412E578A7\" ...\n",
      " $ rideable_type     : chr  \"docked_bike\" \"electric_bike\" \"electric_bike\" \"electric_bike\" ...\n",
      " $ started_at        : chr  \"2020-08-20 18:08:14\" \"2020-08-27 18:46:04\" \"2020-08-26 19:44:14\" \"2020-08-27 12:05:41\" ...\n",
      " $ ended_at          : chr  \"2020-08-20 18:17:51\" \"2020-08-27 19:54:51\" \"2020-08-26 21:53:07\" \"2020-08-27 12:53:45\" ...\n",
      " $ start_station_name: chr  \"Lake Shore Dr & Diversey Pkwy\" \"Michigan Ave & 14th St\" \"Columbus Dr & Randolph St\" \"Daley Center Plaza\" ...\n",
      " $ start_station_id  : int  329 168 195 81 658 658 196 67 153 177 ...\n",
      " $ end_station_name  : chr  \"Clark St & Lincoln Ave\" \"Michigan Ave & 14th St\" \"State St & Randolph St\" \"State St & Kinzie St\" ...\n",
      " $ end_station_id    : int  141 168 44 47 658 658 49 229 225 305 ...\n",
      " $ start_lat         : num  41.9 41.9 41.9 41.9 41.9 ...\n",
      " $ start_lng         : num  -87.6 -87.6 -87.6 -87.6 -87.7 ...\n",
      " $ end_lat           : num  41.9 41.9 41.9 41.9 41.9 ...\n",
      " $ end_lng           : num  -87.6 -87.6 -87.6 -87.6 -87.7 ...\n",
      " $ member_casual     : chr  \"member\" \"casual\" \"casual\" \"casual\" ...\n",
      "'data.frame':\t532958 obs. of  13 variables:\n",
      " $ ride_id           : chr  \"2B22BD5F95FB2629\" \"A7FB70B4AFC6CAF2\" \"86057FA01BAC778E\" \"57F6DC9A153DB98C\" ...\n",
      " $ rideable_type     : chr  \"electric_bike\" \"electric_bike\" \"electric_bike\" \"electric_bike\" ...\n",
      " $ started_at        : chr  \"2020-09-17 14:27:11\" \"2020-09-17 15:07:31\" \"2020-09-17 15:09:04\" \"2020-09-17 18:10:46\" ...\n",
      " $ ended_at          : chr  \"2020-09-17 14:44:24\" \"2020-09-17 15:07:45\" \"2020-09-17 15:09:35\" \"2020-09-17 18:35:49\" ...\n",
      " $ start_station_name: chr  \"Michigan Ave & Lake St\" \"W Oakdale Ave & N Broadway\" \"W Oakdale Ave & N Broadway\" \"Ashland Ave & Belle Plaine Ave\" ...\n",
      " $ start_station_id  : int  52 NA NA 246 24 94 291 NA NA NA ...\n",
      " $ end_station_name  : chr  \"Green St & Randolph St\" \"W Oakdale Ave & N Broadway\" \"W Oakdale Ave & N Broadway\" \"Montrose Harbor\" ...\n",
      " $ end_station_id    : int  112 NA NA 249 24 NA 256 NA NA NA ...\n",
      " $ start_lat         : num  41.9 41.9 41.9 42 41.9 ...\n",
      " $ start_lng         : num  -87.6 -87.6 -87.6 -87.7 -87.6 ...\n",
      " $ end_lat           : num  41.9 41.9 41.9 42 41.9 ...\n",
      " $ end_lng           : num  -87.6 -87.6 -87.6 -87.6 -87.6 ...\n",
      " $ member_casual     : chr  \"casual\" \"casual\" \"casual\" \"casual\" ...\n",
      "'data.frame':\t388653 obs. of  13 variables:\n",
      " $ ride_id           : chr  \"ACB6B40CF5B9044C\" \"DF450C72FD109C01\" \"B6396B54A15AC0DF\" \"44A4AEE261B9E854\" ...\n",
      " $ rideable_type     : chr  \"electric_bike\" \"electric_bike\" \"electric_bike\" \"electric_bike\" ...\n",
      " $ started_at        : chr  \"2020-10-31 19:39:43\" \"2020-10-31 23:50:08\" \"2020-10-31 23:00:01\" \"2020-10-31 22:16:43\" ...\n",
      " $ ended_at          : chr  \"2020-10-31 19:57:12\" \"2020-11-01 00:04:16\" \"2020-10-31 23:08:22\" \"2020-10-31 22:19:35\" ...\n",
      " $ start_station_name: chr  \"Lakeview Ave & Fullerton Pkwy\" \"Southport Ave & Waveland Ave\" \"Stony Island Ave & 67th St\" \"Clark St & Grace St\" ...\n",
      " $ start_station_id  : int  313 227 102 165 190 359 313 125 NA 174 ...\n",
      " $ end_station_name  : chr  \"Rush St & Hubbard St\" \"Kedzie Ave & Milwaukee Ave\" \"University Ave & 57th St\" \"Broadway & Sheridan Rd\" ...\n",
      " $ end_station_id    : int  125 260 423 256 185 53 125 313 199 635 ...\n",
      " $ start_lat         : num  41.9 41.9 41.8 42 41.9 ...\n",
      " $ start_lng         : num  -87.6 -87.7 -87.6 -87.7 -87.7 ...\n",
      " $ end_lat           : num  41.9 41.9 41.8 42 41.9 ...\n",
      " $ end_lng           : num  -87.6 -87.7 -87.6 -87.7 -87.7 ...\n",
      " $ member_casual     : chr  \"casual\" \"casual\" \"casual\" \"casual\" ...\n",
      "'data.frame':\t259716 obs. of  13 variables:\n",
      " $ ride_id           : chr  \"BD0A6FF6FFF9B921\" \"96A7A7A4BDE4F82D\" \"C61526D06582BDC5\" \"E533E89C32080B9E\" ...\n",
      " $ rideable_type     : chr  \"electric_bike\" \"electric_bike\" \"electric_bike\" \"electric_bike\" ...\n",
      " $ started_at        : chr  \"2020-11-01 13:36:00\" \"2020-11-01 10:03:26\" \"2020-11-01 00:34:05\" \"2020-11-01 00:45:16\" ...\n",
      " $ ended_at          : chr  \"2020-11-01 13:45:40\" \"2020-11-01 10:14:45\" \"2020-11-01 01:03:06\" \"2020-11-01 00:54:31\" ...\n",
      " $ start_station_name: chr  \"Dearborn St & Erie St\" \"Franklin St & Illinois St\" \"Lake Shore Dr & Monroe St\" \"Leavitt St & Chicago Ave\" ...\n",
      " $ start_station_id  : int  110 672 76 659 2 72 76 NA 58 394 ...\n",
      " $ end_station_name  : chr  \"St. Clair St & Erie St\" \"Noble St & Milwaukee Ave\" \"Federal St & Polk St\" \"Stave St & Armitage Ave\" ...\n",
      " $ end_station_id    : int  211 29 41 185 2 76 72 NA 288 273 ...\n",
      " $ start_lat         : num  41.9 41.9 41.9 41.9 41.9 ...\n",
      " $ start_lng         : num  -87.6 -87.6 -87.6 -87.7 -87.6 ...\n",
      " $ end_lat           : num  41.9 41.9 41.9 41.9 41.9 ...\n",
      " $ end_lng           : num  -87.6 -87.7 -87.6 -87.7 -87.6 ...\n",
      " $ member_casual     : chr  \"casual\" \"casual\" \"casual\" \"casual\" ...\n",
      "'data.frame':\t131573 obs. of  13 variables:\n",
      " $ ride_id           : chr  \"70B6A9A437D4C30D\" \"158A465D4E74C54A\" \"5262016E0F1F2F9A\" \"BE119628E44F871E\" ...\n",
      " $ rideable_type     : chr  \"classic_bike\" \"electric_bike\" \"electric_bike\" \"electric_bike\" ...\n",
      " $ started_at        : chr  \"2020-12-27 12:44:29\" \"2020-12-18 17:37:15\" \"2020-12-15 15:04:33\" \"2020-12-15 15:54:18\" ...\n",
      " $ ended_at          : chr  \"2020-12-27 12:55:06\" \"2020-12-18 17:44:19\" \"2020-12-15 15:11:28\" \"2020-12-15 16:00:11\" ...\n",
      " $ start_station_name: chr  \"Aberdeen St & Jackson Blvd\" \"\" \"\" \"\" ...\n",
      " $ start_station_id  : chr  \"13157\" \"\" \"\" \"\" ...\n",
      " $ end_station_name  : chr  \"Desplaines St & Kinzie St\" \"\" \"\" \"\" ...\n",
      " $ end_station_id    : chr  \"TA1306000003\" \"\" \"\" \"\" ...\n",
      " $ start_lat         : num  41.9 41.9 41.9 41.9 41.8 ...\n",
      " $ start_lng         : num  -87.7 -87.7 -87.7 -87.7 -87.6 ...\n",
      " $ end_lat           : num  41.9 41.9 41.9 41.9 41.8 ...\n",
      " $ end_lng           : num  -87.6 -87.7 -87.7 -87.7 -87.6 ...\n",
      " $ member_casual     : chr  \"member\" \"member\" \"member\" \"member\" ...\n"
     ]
    }
   ],
   "source": [
    "str(tripdata_2020_Q1)\n",
    "str(tripdata_202004)\n",
    "str(tripdata_202005)\n",
    "str(tripdata_202006)\n",
    "str(tripdata_202007)\n",
    "str(tripdata_202008)\n",
    "str(tripdata_202009)\n",
    "str(tripdata_202010)\n",
    "str(tripdata_202011)\n",
    "str(tripdata_202012)"
   ]
  },
  {
   "cell_type": "markdown",
   "id": "40d8730b",
   "metadata": {
    "papermill": {
     "duration": 0.115962,
     "end_time": "2021-11-24T18:36:55.797256",
     "exception": false,
     "start_time": "2021-11-24T18:36:55.681294",
     "status": "completed"
    },
    "tags": []
   },
   "source": [
    "The following changes are being made to the data:\n",
    "\n",
    "* The columns start_station_id and end_station_id are not uniformed throughout as the same datatype so this will be corrected.\n",
    "* start-station_id and end_station_id in \"tripdata_202012\" is a character whereas the rest are integers"
   ]
  },
  {
   "cell_type": "code",
   "execution_count": 4,
   "id": "f2b1b7e8",
   "metadata": {
    "execution": {
     "iopub.execute_input": "2021-11-24T18:36:56.036004Z",
     "iopub.status.busy": "2021-11-24T18:36:56.035183Z",
     "iopub.status.idle": "2021-11-24T18:36:56.109331Z",
     "shell.execute_reply": "2021-11-24T18:36:56.108066Z"
    },
    "papermill": {
     "duration": 0.195735,
     "end_time": "2021-11-24T18:36:56.109472",
     "exception": false,
     "start_time": "2021-11-24T18:36:55.913737",
     "status": "completed"
    },
    "tags": [],
    "vscode": {
     "languageId": "r"
    }
   },
   "outputs": [],
   "source": [
    "## Changing start_station_id from chr to int\n",
    "\n",
    "options(warn=-1)\n",
    "\n",
    "tripdata_202012 <- mutate(tripdata_202012, start_station_id = as.integer(start_station_id))\n",
    "\n",
    "\n",
    "## changing end_station_id from chr to int\n",
    "\n",
    "tripdata_202012 <- mutate(tripdata_202012, end_station_id = as.integer(end_station_id))"
   ]
  },
  {
   "cell_type": "code",
   "execution_count": 5,
   "id": "ba0e5314",
   "metadata": {
    "execution": {
     "iopub.execute_input": "2021-11-24T18:36:56.353048Z",
     "iopub.status.busy": "2021-11-24T18:36:56.351726Z",
     "iopub.status.idle": "2021-11-24T18:36:56.558447Z",
     "shell.execute_reply": "2021-11-24T18:36:56.556521Z"
    },
    "papermill": {
     "duration": 0.33114,
     "end_time": "2021-11-24T18:36:56.558588",
     "exception": false,
     "start_time": "2021-11-24T18:36:56.227448",
     "status": "completed"
    },
    "tags": [],
    "vscode": {
     "languageId": "r"
    }
   },
   "outputs": [
    {
     "name": "stdout",
     "output_type": "stream",
     "text": [
      "'data.frame':\t426887 obs. of  13 variables:\n",
      " $ ride_id           : chr  \"EACB19130B0CDA4A\" \"8FED874C809DC021\" \"789F3C21E472CA96\" \"C9A388DAC6ABF313\" ...\n",
      " $ rideable_type     : chr  \"docked_bike\" \"docked_bike\" \"docked_bike\" \"docked_bike\" ...\n",
      " $ started_at        : chr  \"2020-01-21 20:06:59\" \"2020-01-30 14:22:39\" \"2020-01-09 19:29:26\" \"2020-01-06 16:17:07\" ...\n",
      " $ ended_at          : chr  \"2020-01-21 20:14:30\" \"2020-01-30 14:26:22\" \"2020-01-09 19:32:17\" \"2020-01-06 16:25:56\" ...\n",
      " $ start_station_name: chr  \"Western Ave & Leland Ave\" \"Clark St & Montrose Ave\" \"Broadway & Belmont Ave\" \"Clark St & Randolph St\" ...\n",
      " $ start_station_id  : int  239 234 296 51 66 212 96 96 212 38 ...\n",
      " $ end_station_name  : chr  \"Clark St & Leland Ave\" \"Southport Ave & Irving Park Rd\" \"Wilton Ave & Belmont Ave\" \"Fairbanks Ct & Grand Ave\" ...\n",
      " $ end_station_id    : int  326 318 117 24 212 96 212 212 96 100 ...\n",
      " $ start_lat         : num  42 42 41.9 41.9 41.9 ...\n",
      " $ start_lng         : num  -87.7 -87.7 -87.6 -87.6 -87.6 ...\n",
      " $ end_lat           : num  42 42 41.9 41.9 41.9 ...\n",
      " $ end_lng           : num  -87.7 -87.7 -87.7 -87.6 -87.6 ...\n",
      " $ member_casual     : chr  \"member\" \"member\" \"member\" \"member\" ...\n",
      "'data.frame':\t84776 obs. of  13 variables:\n",
      " $ ride_id           : chr  \"A847FADBBC638E45\" \"5405B80E996FF60D\" \"5DD24A79A4E006F4\" \"2A59BBDF5CDBA725\" ...\n",
      " $ rideable_type     : chr  \"docked_bike\" \"docked_bike\" \"docked_bike\" \"docked_bike\" ...\n",
      " $ started_at        : chr  \"2020-04-26 17:45:14\" \"2020-04-17 17:08:54\" \"2020-04-01 17:54:13\" \"2020-04-07 12:50:19\" ...\n",
      " $ ended_at          : chr  \"2020-04-26 18:12:03\" \"2020-04-17 17:17:03\" \"2020-04-01 18:08:36\" \"2020-04-07 13:02:31\" ...\n",
      " $ start_station_name: chr  \"Eckhart Park\" \"Drake Ave & Fullerton Ave\" \"McClurg Ct & Erie St\" \"California Ave & Division St\" ...\n",
      " $ start_station_id  : int  86 503 142 216 125 173 35 434 627 377 ...\n",
      " $ end_station_name  : chr  \"Lincoln Ave & Diversey Pkwy\" \"Kosciuszko Park\" \"Indiana Ave & Roosevelt Rd\" \"Wood St & Augusta Blvd\" ...\n",
      " $ end_station_id    : int  152 499 255 657 323 35 635 382 359 508 ...\n",
      " $ start_lat         : num  41.9 41.9 41.9 41.9 41.9 ...\n",
      " $ start_lng         : num  -87.7 -87.7 -87.6 -87.7 -87.6 ...\n",
      " $ end_lat           : num  41.9 41.9 41.9 41.9 42 ...\n",
      " $ end_lng           : num  -87.7 -87.7 -87.6 -87.7 -87.7 ...\n",
      " $ member_casual     : chr  \"member\" \"member\" \"member\" \"member\" ...\n",
      "'data.frame':\t200274 obs. of  13 variables:\n",
      " $ ride_id           : chr  \"02668AD35674B983\" \"7A50CCAF1EDDB28F\" \"2FFCDFDB91FE9A52\" \"58991CF1DB75BA84\" ...\n",
      " $ rideable_type     : chr  \"docked_bike\" \"docked_bike\" \"docked_bike\" \"docked_bike\" ...\n",
      " $ started_at        : chr  \"2020-05-27 10:03:52\" \"2020-05-25 10:47:11\" \"2020-05-02 14:11:03\" \"2020-05-02 16:25:36\" ...\n",
      " $ ended_at          : chr  \"2020-05-27 10:16:49\" \"2020-05-25 11:05:40\" \"2020-05-02 15:48:21\" \"2020-05-02 16:39:28\" ...\n",
      " $ start_station_name: chr  \"Franklin St & Jackson Blvd\" \"Clark St & Wrightwood Ave\" \"Kedzie Ave & Milwaukee Ave\" \"Clarendon Ave & Leland Ave\" ...\n",
      " $ start_station_id  : int  36 340 260 251 261 206 261 180 331 219 ...\n",
      " $ end_station_name  : chr  \"Wabash Ave & Grand Ave\" \"Clark St & Leland Ave\" \"Kedzie Ave & Milwaukee Ave\" \"Lake Shore Dr & Wellington Ave\" ...\n",
      " $ end_station_id    : int  199 326 260 157 206 22 261 180 300 305 ...\n",
      " $ start_lat         : num  41.9 41.9 41.9 42 41.9 ...\n",
      " $ start_lng         : num  -87.6 -87.6 -87.7 -87.7 -87.7 ...\n",
      " $ end_lat           : num  41.9 42 41.9 41.9 41.8 ...\n",
      " $ end_lng           : num  -87.6 -87.7 -87.7 -87.6 -87.6 ...\n",
      " $ member_casual     : chr  \"member\" \"casual\" \"casual\" \"casual\" ...\n",
      "'data.frame':\t343005 obs. of  13 variables:\n",
      " $ ride_id           : chr  \"8CD5DE2C2B6C4CFC\" \"9A191EB2C751D85D\" \"F37D14B0B5659BCF\" \"C41237B506E85FA1\" ...\n",
      " $ rideable_type     : chr  \"docked_bike\" \"docked_bike\" \"docked_bike\" \"docked_bike\" ...\n",
      " $ started_at        : chr  \"2020-06-13 23:24:48\" \"2020-06-26 07:26:10\" \"2020-06-23 17:12:41\" \"2020-06-20 01:09:35\" ...\n",
      " $ ended_at          : chr  \"2020-06-13 23:36:55\" \"2020-06-26 07:31:58\" \"2020-06-23 17:21:14\" \"2020-06-20 01:28:24\" ...\n",
      " $ start_station_name: chr  \"Wilton Ave & Belmont Ave\" \"Federal St & Polk St\" \"Daley Center Plaza\" \"Broadway & Cornelia Ave\" ...\n",
      " $ start_station_id  : int  117 41 81 303 327 327 41 115 338 84 ...\n",
      " $ end_station_name  : chr  \"Damen Ave & Clybourn Ave\" \"Daley Center Plaza\" \"State St & Harrison St\" \"Broadway & Berwyn Ave\" ...\n",
      " $ end_station_id    : int  163 81 5 294 117 117 81 303 164 53 ...\n",
      " $ start_lat         : num  41.9 41.9 41.9 41.9 41.9 ...\n",
      " $ start_lng         : num  -87.7 -87.6 -87.6 -87.6 -87.7 ...\n",
      " $ end_lat           : num  41.9 41.9 41.9 42 41.9 ...\n",
      " $ end_lng           : num  -87.7 -87.6 -87.6 -87.7 -87.7 ...\n",
      " $ member_casual     : chr  \"casual\" \"member\" \"member\" \"casual\" ...\n",
      "'data.frame':\t551480 obs. of  13 variables:\n",
      " $ ride_id           : chr  \"762198876D69004D\" \"BEC9C9FBA0D4CF1B\" \"D2FD8EA432C77EC1\" \"54AE594E20B35881\" ...\n",
      " $ rideable_type     : chr  \"docked_bike\" \"docked_bike\" \"docked_bike\" \"docked_bike\" ...\n",
      " $ started_at        : chr  \"2020-07-09 15:22:02\" \"2020-07-24 23:56:30\" \"2020-07-08 19:49:07\" \"2020-07-17 19:06:42\" ...\n",
      " $ ended_at          : chr  \"2020-07-09 15:25:52\" \"2020-07-25 00:20:17\" \"2020-07-08 19:56:22\" \"2020-07-17 19:27:38\" ...\n",
      " $ start_station_name: chr  \"Ritchie Ct & Banks St\" \"Halsted St & Roscoe St\" \"Lake Shore Dr & Diversey Pkwy\" \"LaSalle St & Illinois St\" ...\n",
      " $ start_station_id  : int  180 299 329 181 268 635 113 211 176 31 ...\n",
      " $ end_station_name  : chr  \"Wells St & Evergreen Ave\" \"Broadway & Ridge Ave\" \"Clark St & Wellington Ave\" \"Clark St & Armitage Ave\" ...\n",
      " $ end_station_id    : int  291 461 156 94 301 289 140 31 191 142 ...\n",
      " $ start_lat         : num  41.9 41.9 41.9 41.9 41.9 ...\n",
      " $ start_lng         : num  -87.6 -87.6 -87.6 -87.6 -87.6 ...\n",
      " $ end_lat           : num  41.9 42 41.9 41.9 41.9 ...\n",
      " $ end_lng           : num  -87.6 -87.7 -87.6 -87.6 -87.6 ...\n",
      " $ member_casual     : chr  \"member\" \"member\" \"casual\" \"casual\" ...\n",
      "'data.frame':\t622361 obs. of  13 variables:\n",
      " $ ride_id           : chr  \"322BD23D287743ED\" \"2A3AEF1AB9054D8B\" \"67DC1D133E8B5816\" \"C79FBBD412E578A7\" ...\n",
      " $ rideable_type     : chr  \"docked_bike\" \"electric_bike\" \"electric_bike\" \"electric_bike\" ...\n",
      " $ started_at        : chr  \"2020-08-20 18:08:14\" \"2020-08-27 18:46:04\" \"2020-08-26 19:44:14\" \"2020-08-27 12:05:41\" ...\n",
      " $ ended_at          : chr  \"2020-08-20 18:17:51\" \"2020-08-27 19:54:51\" \"2020-08-26 21:53:07\" \"2020-08-27 12:53:45\" ...\n",
      " $ start_station_name: chr  \"Lake Shore Dr & Diversey Pkwy\" \"Michigan Ave & 14th St\" \"Columbus Dr & Randolph St\" \"Daley Center Plaza\" ...\n",
      " $ start_station_id  : int  329 168 195 81 658 658 196 67 153 177 ...\n",
      " $ end_station_name  : chr  \"Clark St & Lincoln Ave\" \"Michigan Ave & 14th St\" \"State St & Randolph St\" \"State St & Kinzie St\" ...\n",
      " $ end_station_id    : int  141 168 44 47 658 658 49 229 225 305 ...\n",
      " $ start_lat         : num  41.9 41.9 41.9 41.9 41.9 ...\n",
      " $ start_lng         : num  -87.6 -87.6 -87.6 -87.6 -87.7 ...\n",
      " $ end_lat           : num  41.9 41.9 41.9 41.9 41.9 ...\n",
      " $ end_lng           : num  -87.6 -87.6 -87.6 -87.6 -87.7 ...\n",
      " $ member_casual     : chr  \"member\" \"casual\" \"casual\" \"casual\" ...\n",
      "'data.frame':\t532958 obs. of  13 variables:\n",
      " $ ride_id           : chr  \"2B22BD5F95FB2629\" \"A7FB70B4AFC6CAF2\" \"86057FA01BAC778E\" \"57F6DC9A153DB98C\" ...\n",
      " $ rideable_type     : chr  \"electric_bike\" \"electric_bike\" \"electric_bike\" \"electric_bike\" ...\n",
      " $ started_at        : chr  \"2020-09-17 14:27:11\" \"2020-09-17 15:07:31\" \"2020-09-17 15:09:04\" \"2020-09-17 18:10:46\" ...\n",
      " $ ended_at          : chr  \"2020-09-17 14:44:24\" \"2020-09-17 15:07:45\" \"2020-09-17 15:09:35\" \"2020-09-17 18:35:49\" ...\n",
      " $ start_station_name: chr  \"Michigan Ave & Lake St\" \"W Oakdale Ave & N Broadway\" \"W Oakdale Ave & N Broadway\" \"Ashland Ave & Belle Plaine Ave\" ...\n",
      " $ start_station_id  : int  52 NA NA 246 24 94 291 NA NA NA ...\n",
      " $ end_station_name  : chr  \"Green St & Randolph St\" \"W Oakdale Ave & N Broadway\" \"W Oakdale Ave & N Broadway\" \"Montrose Harbor\" ...\n",
      " $ end_station_id    : int  112 NA NA 249 24 NA 256 NA NA NA ...\n",
      " $ start_lat         : num  41.9 41.9 41.9 42 41.9 ...\n",
      " $ start_lng         : num  -87.6 -87.6 -87.6 -87.7 -87.6 ...\n",
      " $ end_lat           : num  41.9 41.9 41.9 42 41.9 ...\n",
      " $ end_lng           : num  -87.6 -87.6 -87.6 -87.6 -87.6 ...\n",
      " $ member_casual     : chr  \"casual\" \"casual\" \"casual\" \"casual\" ...\n",
      "'data.frame':\t388653 obs. of  13 variables:\n",
      " $ ride_id           : chr  \"ACB6B40CF5B9044C\" \"DF450C72FD109C01\" \"B6396B54A15AC0DF\" \"44A4AEE261B9E854\" ...\n",
      " $ rideable_type     : chr  \"electric_bike\" \"electric_bike\" \"electric_bike\" \"electric_bike\" ...\n",
      " $ started_at        : chr  \"2020-10-31 19:39:43\" \"2020-10-31 23:50:08\" \"2020-10-31 23:00:01\" \"2020-10-31 22:16:43\" ...\n",
      " $ ended_at          : chr  \"2020-10-31 19:57:12\" \"2020-11-01 00:04:16\" \"2020-10-31 23:08:22\" \"2020-10-31 22:19:35\" ...\n",
      " $ start_station_name: chr  \"Lakeview Ave & Fullerton Pkwy\" \"Southport Ave & Waveland Ave\" \"Stony Island Ave & 67th St\" \"Clark St & Grace St\" ...\n",
      " $ start_station_id  : int  313 227 102 165 190 359 313 125 NA 174 ...\n",
      " $ end_station_name  : chr  \"Rush St & Hubbard St\" \"Kedzie Ave & Milwaukee Ave\" \"University Ave & 57th St\" \"Broadway & Sheridan Rd\" ...\n",
      " $ end_station_id    : int  125 260 423 256 185 53 125 313 199 635 ...\n",
      " $ start_lat         : num  41.9 41.9 41.8 42 41.9 ...\n",
      " $ start_lng         : num  -87.6 -87.7 -87.6 -87.7 -87.7 ...\n",
      " $ end_lat           : num  41.9 41.9 41.8 42 41.9 ...\n",
      " $ end_lng           : num  -87.6 -87.7 -87.6 -87.7 -87.7 ...\n",
      " $ member_casual     : chr  \"casual\" \"casual\" \"casual\" \"casual\" ...\n",
      "'data.frame':\t259716 obs. of  13 variables:\n",
      " $ ride_id           : chr  \"BD0A6FF6FFF9B921\" \"96A7A7A4BDE4F82D\" \"C61526D06582BDC5\" \"E533E89C32080B9E\" ...\n",
      " $ rideable_type     : chr  \"electric_bike\" \"electric_bike\" \"electric_bike\" \"electric_bike\" ...\n",
      " $ started_at        : chr  \"2020-11-01 13:36:00\" \"2020-11-01 10:03:26\" \"2020-11-01 00:34:05\" \"2020-11-01 00:45:16\" ...\n",
      " $ ended_at          : chr  \"2020-11-01 13:45:40\" \"2020-11-01 10:14:45\" \"2020-11-01 01:03:06\" \"2020-11-01 00:54:31\" ...\n",
      " $ start_station_name: chr  \"Dearborn St & Erie St\" \"Franklin St & Illinois St\" \"Lake Shore Dr & Monroe St\" \"Leavitt St & Chicago Ave\" ...\n",
      " $ start_station_id  : int  110 672 76 659 2 72 76 NA 58 394 ...\n",
      " $ end_station_name  : chr  \"St. Clair St & Erie St\" \"Noble St & Milwaukee Ave\" \"Federal St & Polk St\" \"Stave St & Armitage Ave\" ...\n",
      " $ end_station_id    : int  211 29 41 185 2 76 72 NA 288 273 ...\n",
      " $ start_lat         : num  41.9 41.9 41.9 41.9 41.9 ...\n",
      " $ start_lng         : num  -87.6 -87.6 -87.6 -87.7 -87.6 ...\n",
      " $ end_lat           : num  41.9 41.9 41.9 41.9 41.9 ...\n",
      " $ end_lng           : num  -87.6 -87.7 -87.6 -87.7 -87.6 ...\n",
      " $ member_casual     : chr  \"casual\" \"casual\" \"casual\" \"casual\" ...\n",
      "'data.frame':\t131573 obs. of  13 variables:\n",
      " $ ride_id           : chr  \"70B6A9A437D4C30D\" \"158A465D4E74C54A\" \"5262016E0F1F2F9A\" \"BE119628E44F871E\" ...\n",
      " $ rideable_type     : chr  \"classic_bike\" \"electric_bike\" \"electric_bike\" \"electric_bike\" ...\n",
      " $ started_at        : chr  \"2020-12-27 12:44:29\" \"2020-12-18 17:37:15\" \"2020-12-15 15:04:33\" \"2020-12-15 15:54:18\" ...\n",
      " $ ended_at          : chr  \"2020-12-27 12:55:06\" \"2020-12-18 17:44:19\" \"2020-12-15 15:11:28\" \"2020-12-15 16:00:11\" ...\n",
      " $ start_station_name: chr  \"Aberdeen St & Jackson Blvd\" \"\" \"\" \"\" ...\n",
      " $ start_station_id  : int  13157 NA NA NA NA NA NA NA NA NA ...\n",
      " $ end_station_name  : chr  \"Desplaines St & Kinzie St\" \"\" \"\" \"\" ...\n",
      " $ end_station_id    : int  NA NA NA NA NA NA NA NA NA NA ...\n",
      " $ start_lat         : num  41.9 41.9 41.9 41.9 41.8 ...\n",
      " $ start_lng         : num  -87.7 -87.7 -87.7 -87.7 -87.6 ...\n",
      " $ end_lat           : num  41.9 41.9 41.9 41.9 41.8 ...\n",
      " $ end_lng           : num  -87.6 -87.7 -87.7 -87.7 -87.6 ...\n",
      " $ member_casual     : chr  \"member\" \"member\" \"member\" \"member\" ...\n"
     ]
    }
   ],
   "source": [
    "str(tripdata_2020_Q1)\n",
    "str(tripdata_202004)\n",
    "str(tripdata_202005)\n",
    "str(tripdata_202006)\n",
    "str(tripdata_202007)\n",
    "str(tripdata_202008)\n",
    "str(tripdata_202009)\n",
    "str(tripdata_202010)\n",
    "str(tripdata_202011)\n",
    "str(tripdata_202012)"
   ]
  },
  {
   "cell_type": "code",
   "execution_count": 6,
   "id": "c96c138a",
   "metadata": {
    "execution": {
     "iopub.execute_input": "2021-11-24T18:36:56.812869Z",
     "iopub.status.busy": "2021-11-24T18:36:56.811192Z",
     "iopub.status.idle": "2021-11-24T18:37:14.440433Z",
     "shell.execute_reply": "2021-11-24T18:37:14.439090Z"
    },
    "papermill": {
     "duration": 17.756344,
     "end_time": "2021-11-24T18:37:14.440587",
     "exception": false,
     "start_time": "2021-11-24T18:36:56.684243",
     "status": "completed"
    },
    "tags": [],
    "vscode": {
     "languageId": "r"
    }
   },
   "outputs": [],
   "source": [
    "## Combining the individual files into one \n",
    "\n",
    "tripdata_2020 <- rbind(tripdata_2020_Q1, tripdata_202004, tripdata_202005, tripdata_202006, tripdata_202007, tripdata_202008, tripdata_202009, tripdata_202010, tripdata_202011, tripdata_202012)"
   ]
  },
  {
   "cell_type": "code",
   "execution_count": 7,
   "id": "b5fb1a42",
   "metadata": {
    "execution": {
     "iopub.execute_input": "2021-11-24T18:37:14.806906Z",
     "iopub.status.busy": "2021-11-24T18:37:14.805146Z",
     "iopub.status.idle": "2021-11-24T18:37:14.825965Z",
     "shell.execute_reply": "2021-11-24T18:37:14.824765Z"
    },
    "papermill": {
     "duration": 0.154043,
     "end_time": "2021-11-24T18:37:14.826104",
     "exception": false,
     "start_time": "2021-11-24T18:37:14.672061",
     "status": "completed"
    },
    "tags": [],
    "vscode": {
     "languageId": "r"
    }
   },
   "outputs": [
    {
     "name": "stdout",
     "output_type": "stream",
     "text": [
      "[1] 3541683\n"
     ]
    }
   ],
   "source": [
    "## Confirming the total number of rows for the individual dataframes\n",
    "\n",
    "rowtotal <- sum(\n",
    "nrow(tripdata_2020_Q1),\n",
    "nrow(tripdata_202004), \n",
    "nrow(tripdata_202005), \n",
    "nrow(tripdata_202006), \n",
    "nrow(tripdata_202007), \n",
    "nrow(tripdata_202008), \n",
    "nrow(tripdata_202009), \n",
    "nrow(tripdata_202010),\n",
    "nrow(tripdata_202011), \n",
    "nrow(tripdata_202012))\n",
    "\n",
    "print(rowtotal)"
   ]
  },
  {
   "cell_type": "code",
   "execution_count": 8,
   "id": "5c6e1a62",
   "metadata": {
    "execution": {
     "iopub.execute_input": "2021-11-24T18:37:15.086574Z",
     "iopub.status.busy": "2021-11-24T18:37:15.084572Z",
     "iopub.status.idle": "2021-11-24T18:37:15.103474Z",
     "shell.execute_reply": "2021-11-24T18:37:15.101826Z"
    },
    "papermill": {
     "duration": 0.151305,
     "end_time": "2021-11-24T18:37:15.103578",
     "exception": false,
     "start_time": "2021-11-24T18:37:14.952273",
     "status": "completed"
    },
    "tags": [],
    "vscode": {
     "languageId": "r"
    }
   },
   "outputs": [
    {
     "name": "stdout",
     "output_type": "stream",
     "text": [
      "[1] 3541683\n"
     ]
    }
   ],
   "source": [
    "## Confirming the total number of rows for the combined dataframe\n",
    "\n",
    "print(nrow(tripdata_2020))"
   ]
  },
  {
   "cell_type": "markdown",
   "id": "5d47820b",
   "metadata": {
    "papermill": {
     "duration": 0.126362,
     "end_time": "2021-11-24T18:37:15.356713",
     "exception": false,
     "start_time": "2021-11-24T18:37:15.230351",
     "status": "completed"
    },
    "tags": []
   },
   "source": [
    "### Examining the combined dataset"
   ]
  },
  {
   "cell_type": "code",
   "execution_count": 9,
   "id": "8e578167",
   "metadata": {
    "execution": {
     "iopub.execute_input": "2021-11-24T18:37:15.622193Z",
     "iopub.status.busy": "2021-11-24T18:37:15.620471Z",
     "iopub.status.idle": "2021-11-24T18:37:15.703098Z",
     "shell.execute_reply": "2021-11-24T18:37:15.701324Z"
    },
    "papermill": {
     "duration": 0.218602,
     "end_time": "2021-11-24T18:37:15.703200",
     "exception": false,
     "start_time": "2021-11-24T18:37:15.484598",
     "status": "completed"
    },
    "tags": [],
    "vscode": {
     "languageId": "r"
    }
   },
   "outputs": [
    {
     "name": "stdout",
     "output_type": "stream",
     "text": [
      "'data.frame':\t3541683 obs. of  13 variables:\n",
      " $ ride_id           : chr  \"EACB19130B0CDA4A\" \"8FED874C809DC021\" \"789F3C21E472CA96\" \"C9A388DAC6ABF313\" ...\n",
      " $ rideable_type     : chr  \"docked_bike\" \"docked_bike\" \"docked_bike\" \"docked_bike\" ...\n",
      " $ started_at        : chr  \"2020-01-21 20:06:59\" \"2020-01-30 14:22:39\" \"2020-01-09 19:29:26\" \"2020-01-06 16:17:07\" ...\n",
      " $ ended_at          : chr  \"2020-01-21 20:14:30\" \"2020-01-30 14:26:22\" \"2020-01-09 19:32:17\" \"2020-01-06 16:25:56\" ...\n",
      " $ start_station_name: chr  \"Western Ave & Leland Ave\" \"Clark St & Montrose Ave\" \"Broadway & Belmont Ave\" \"Clark St & Randolph St\" ...\n",
      " $ start_station_id  : int  239 234 296 51 66 212 96 96 212 38 ...\n",
      " $ end_station_name  : chr  \"Clark St & Leland Ave\" \"Southport Ave & Irving Park Rd\" \"Wilton Ave & Belmont Ave\" \"Fairbanks Ct & Grand Ave\" ...\n",
      " $ end_station_id    : int  326 318 117 24 212 96 212 212 96 100 ...\n",
      " $ start_lat         : num  42 42 41.9 41.9 41.9 ...\n",
      " $ start_lng         : num  -87.7 -87.7 -87.6 -87.6 -87.6 ...\n",
      " $ end_lat           : num  42 42 41.9 41.9 41.9 ...\n",
      " $ end_lng           : num  -87.7 -87.7 -87.7 -87.6 -87.6 ...\n",
      " $ member_casual     : chr  \"member\" \"member\" \"member\" \"member\" ...\n"
     ]
    },
    {
     "data": {
      "text/html": [
       "<table class=\"dataframe\">\n",
       "<caption>A data.frame: 6 × 13</caption>\n",
       "<thead>\n",
       "\t<tr><th></th><th scope=col>ride_id</th><th scope=col>rideable_type</th><th scope=col>started_at</th><th scope=col>ended_at</th><th scope=col>start_station_name</th><th scope=col>start_station_id</th><th scope=col>end_station_name</th><th scope=col>end_station_id</th><th scope=col>start_lat</th><th scope=col>start_lng</th><th scope=col>end_lat</th><th scope=col>end_lng</th><th scope=col>member_casual</th></tr>\n",
       "\t<tr><th></th><th scope=col>&lt;chr&gt;</th><th scope=col>&lt;chr&gt;</th><th scope=col>&lt;chr&gt;</th><th scope=col>&lt;chr&gt;</th><th scope=col>&lt;chr&gt;</th><th scope=col>&lt;int&gt;</th><th scope=col>&lt;chr&gt;</th><th scope=col>&lt;int&gt;</th><th scope=col>&lt;dbl&gt;</th><th scope=col>&lt;dbl&gt;</th><th scope=col>&lt;dbl&gt;</th><th scope=col>&lt;dbl&gt;</th><th scope=col>&lt;chr&gt;</th></tr>\n",
       "</thead>\n",
       "<tbody>\n",
       "\t<tr><th scope=row>1</th><td>EACB19130B0CDA4A</td><td>docked_bike</td><td>2020-01-21 20:06:59</td><td>2020-01-21 20:14:30</td><td>Western Ave &amp; Leland Ave</td><td>239</td><td><span style=white-space:pre-wrap>Clark St &amp; Leland Ave         </span></td><td>326</td><td>41.9665</td><td>-87.6884</td><td>41.9671</td><td>-87.6674</td><td>member</td></tr>\n",
       "\t<tr><th scope=row>2</th><td>8FED874C809DC021</td><td>docked_bike</td><td>2020-01-30 14:22:39</td><td>2020-01-30 14:26:22</td><td>Clark St &amp; Montrose Ave </td><td>234</td><td>Southport Ave &amp; Irving Park Rd</td><td>318</td><td>41.9616</td><td>-87.6660</td><td>41.9542</td><td>-87.6644</td><td>member</td></tr>\n",
       "\t<tr><th scope=row>3</th><td>789F3C21E472CA96</td><td>docked_bike</td><td>2020-01-09 19:29:26</td><td>2020-01-09 19:32:17</td><td><span style=white-space:pre-wrap>Broadway &amp; Belmont Ave  </span></td><td>296</td><td><span style=white-space:pre-wrap>Wilton Ave &amp; Belmont Ave      </span></td><td>117</td><td>41.9401</td><td>-87.6455</td><td>41.9402</td><td>-87.6530</td><td>member</td></tr>\n",
       "\t<tr><th scope=row>4</th><td>C9A388DAC6ABF313</td><td>docked_bike</td><td>2020-01-06 16:17:07</td><td>2020-01-06 16:25:56</td><td><span style=white-space:pre-wrap>Clark St &amp; Randolph St  </span></td><td> 51</td><td><span style=white-space:pre-wrap>Fairbanks Ct &amp; Grand Ave      </span></td><td> 24</td><td>41.8846</td><td>-87.6319</td><td>41.8918</td><td>-87.6206</td><td>member</td></tr>\n",
       "\t<tr><th scope=row>5</th><td>943BC3CBECCFD662</td><td>docked_bike</td><td>2020-01-30 08:37:16</td><td>2020-01-30 08:42:48</td><td><span style=white-space:pre-wrap>Clinton St &amp; Lake St    </span></td><td> 66</td><td><span style=white-space:pre-wrap>Wells St &amp; Hubbard St         </span></td><td>212</td><td>41.8856</td><td>-87.6418</td><td>41.8899</td><td>-87.6343</td><td>member</td></tr>\n",
       "\t<tr><th scope=row>6</th><td>6D9C8A6938165C11</td><td>docked_bike</td><td>2020-01-10 12:33:05</td><td>2020-01-10 12:37:54</td><td><span style=white-space:pre-wrap>Wells St &amp; Hubbard St   </span></td><td>212</td><td><span style=white-space:pre-wrap>Desplaines St &amp; Randolph St   </span></td><td> 96</td><td>41.8899</td><td>-87.6343</td><td>41.8846</td><td>-87.6446</td><td>member</td></tr>\n",
       "</tbody>\n",
       "</table>\n"
      ],
      "text/latex": [
       "A data.frame: 6 × 13\n",
       "\\begin{tabular}{r|lllllllllllll}\n",
       "  & ride\\_id & rideable\\_type & started\\_at & ended\\_at & start\\_station\\_name & start\\_station\\_id & end\\_station\\_name & end\\_station\\_id & start\\_lat & start\\_lng & end\\_lat & end\\_lng & member\\_casual\\\\\n",
       "  & <chr> & <chr> & <chr> & <chr> & <chr> & <int> & <chr> & <int> & <dbl> & <dbl> & <dbl> & <dbl> & <chr>\\\\\n",
       "\\hline\n",
       "\t1 & EACB19130B0CDA4A & docked\\_bike & 2020-01-21 20:06:59 & 2020-01-21 20:14:30 & Western Ave \\& Leland Ave & 239 & Clark St \\& Leland Ave          & 326 & 41.9665 & -87.6884 & 41.9671 & -87.6674 & member\\\\\n",
       "\t2 & 8FED874C809DC021 & docked\\_bike & 2020-01-30 14:22:39 & 2020-01-30 14:26:22 & Clark St \\& Montrose Ave  & 234 & Southport Ave \\& Irving Park Rd & 318 & 41.9616 & -87.6660 & 41.9542 & -87.6644 & member\\\\\n",
       "\t3 & 789F3C21E472CA96 & docked\\_bike & 2020-01-09 19:29:26 & 2020-01-09 19:32:17 & Broadway \\& Belmont Ave   & 296 & Wilton Ave \\& Belmont Ave       & 117 & 41.9401 & -87.6455 & 41.9402 & -87.6530 & member\\\\\n",
       "\t4 & C9A388DAC6ABF313 & docked\\_bike & 2020-01-06 16:17:07 & 2020-01-06 16:25:56 & Clark St \\& Randolph St   &  51 & Fairbanks Ct \\& Grand Ave       &  24 & 41.8846 & -87.6319 & 41.8918 & -87.6206 & member\\\\\n",
       "\t5 & 943BC3CBECCFD662 & docked\\_bike & 2020-01-30 08:37:16 & 2020-01-30 08:42:48 & Clinton St \\& Lake St     &  66 & Wells St \\& Hubbard St          & 212 & 41.8856 & -87.6418 & 41.8899 & -87.6343 & member\\\\\n",
       "\t6 & 6D9C8A6938165C11 & docked\\_bike & 2020-01-10 12:33:05 & 2020-01-10 12:37:54 & Wells St \\& Hubbard St    & 212 & Desplaines St \\& Randolph St    &  96 & 41.8899 & -87.6343 & 41.8846 & -87.6446 & member\\\\\n",
       "\\end{tabular}\n"
      ],
      "text/markdown": [
       "\n",
       "A data.frame: 6 × 13\n",
       "\n",
       "| <!--/--> | ride_id &lt;chr&gt; | rideable_type &lt;chr&gt; | started_at &lt;chr&gt; | ended_at &lt;chr&gt; | start_station_name &lt;chr&gt; | start_station_id &lt;int&gt; | end_station_name &lt;chr&gt; | end_station_id &lt;int&gt; | start_lat &lt;dbl&gt; | start_lng &lt;dbl&gt; | end_lat &lt;dbl&gt; | end_lng &lt;dbl&gt; | member_casual &lt;chr&gt; |\n",
       "|---|---|---|---|---|---|---|---|---|---|---|---|---|---|\n",
       "| 1 | EACB19130B0CDA4A | docked_bike | 2020-01-21 20:06:59 | 2020-01-21 20:14:30 | Western Ave &amp; Leland Ave | 239 | Clark St &amp; Leland Ave          | 326 | 41.9665 | -87.6884 | 41.9671 | -87.6674 | member |\n",
       "| 2 | 8FED874C809DC021 | docked_bike | 2020-01-30 14:22:39 | 2020-01-30 14:26:22 | Clark St &amp; Montrose Ave  | 234 | Southport Ave &amp; Irving Park Rd | 318 | 41.9616 | -87.6660 | 41.9542 | -87.6644 | member |\n",
       "| 3 | 789F3C21E472CA96 | docked_bike | 2020-01-09 19:29:26 | 2020-01-09 19:32:17 | Broadway &amp; Belmont Ave   | 296 | Wilton Ave &amp; Belmont Ave       | 117 | 41.9401 | -87.6455 | 41.9402 | -87.6530 | member |\n",
       "| 4 | C9A388DAC6ABF313 | docked_bike | 2020-01-06 16:17:07 | 2020-01-06 16:25:56 | Clark St &amp; Randolph St   |  51 | Fairbanks Ct &amp; Grand Ave       |  24 | 41.8846 | -87.6319 | 41.8918 | -87.6206 | member |\n",
       "| 5 | 943BC3CBECCFD662 | docked_bike | 2020-01-30 08:37:16 | 2020-01-30 08:42:48 | Clinton St &amp; Lake St     |  66 | Wells St &amp; Hubbard St          | 212 | 41.8856 | -87.6418 | 41.8899 | -87.6343 | member |\n",
       "| 6 | 6D9C8A6938165C11 | docked_bike | 2020-01-10 12:33:05 | 2020-01-10 12:37:54 | Wells St &amp; Hubbard St    | 212 | Desplaines St &amp; Randolph St    |  96 | 41.8899 | -87.6343 | 41.8846 | -87.6446 | member |\n",
       "\n"
      ],
      "text/plain": [
       "  ride_id          rideable_type started_at          ended_at           \n",
       "1 EACB19130B0CDA4A docked_bike   2020-01-21 20:06:59 2020-01-21 20:14:30\n",
       "2 8FED874C809DC021 docked_bike   2020-01-30 14:22:39 2020-01-30 14:26:22\n",
       "3 789F3C21E472CA96 docked_bike   2020-01-09 19:29:26 2020-01-09 19:32:17\n",
       "4 C9A388DAC6ABF313 docked_bike   2020-01-06 16:17:07 2020-01-06 16:25:56\n",
       "5 943BC3CBECCFD662 docked_bike   2020-01-30 08:37:16 2020-01-30 08:42:48\n",
       "6 6D9C8A6938165C11 docked_bike   2020-01-10 12:33:05 2020-01-10 12:37:54\n",
       "  start_station_name       start_station_id end_station_name              \n",
       "1 Western Ave & Leland Ave 239              Clark St & Leland Ave         \n",
       "2 Clark St & Montrose Ave  234              Southport Ave & Irving Park Rd\n",
       "3 Broadway & Belmont Ave   296              Wilton Ave & Belmont Ave      \n",
       "4 Clark St & Randolph St    51              Fairbanks Ct & Grand Ave      \n",
       "5 Clinton St & Lake St      66              Wells St & Hubbard St         \n",
       "6 Wells St & Hubbard St    212              Desplaines St & Randolph St   \n",
       "  end_station_id start_lat start_lng end_lat end_lng  member_casual\n",
       "1 326            41.9665   -87.6884  41.9671 -87.6674 member       \n",
       "2 318            41.9616   -87.6660  41.9542 -87.6644 member       \n",
       "3 117            41.9401   -87.6455  41.9402 -87.6530 member       \n",
       "4  24            41.8846   -87.6319  41.8918 -87.6206 member       \n",
       "5 212            41.8856   -87.6418  41.8899 -87.6343 member       \n",
       "6  96            41.8899   -87.6343  41.8846 -87.6446 member       "
      ]
     },
     "metadata": {},
     "output_type": "display_data"
    }
   ],
   "source": [
    "str(tripdata_2020)\n",
    "\n",
    "head(tripdata_2020)"
   ]
  },
  {
   "cell_type": "markdown",
   "id": "b5794062",
   "metadata": {
    "papermill": {
     "duration": 0.129879,
     "end_time": "2021-11-24T18:37:15.963746",
     "exception": false,
     "start_time": "2021-11-24T18:37:15.833867",
     "status": "completed"
    },
    "tags": []
   },
   "source": [
    "### Data cleaning"
   ]
  },
  {
   "cell_type": "markdown",
   "id": "d33ebb8c",
   "metadata": {
    "papermill": {
     "duration": 0.12904,
     "end_time": "2021-11-24T18:37:16.221101",
     "exception": false,
     "start_time": "2021-11-24T18:37:16.092061",
     "status": "completed"
    },
    "tags": []
   },
   "source": [
    "The time format is currently yyyy-mm-dd hh:mm:ss to do a deeper analysis it is best to format into indiviudal columns and add a day of the week column."
   ]
  },
  {
   "cell_type": "code",
   "execution_count": 10,
   "id": "56d48531",
   "metadata": {
    "execution": {
     "iopub.execute_input": "2021-11-24T18:37:16.487586Z",
     "iopub.status.busy": "2021-11-24T18:37:16.485065Z",
     "iopub.status.idle": "2021-11-24T18:37:34.392631Z",
     "shell.execute_reply": "2021-11-24T18:37:34.391475Z"
    },
    "papermill": {
     "duration": 18.042399,
     "end_time": "2021-11-24T18:37:34.392818",
     "exception": false,
     "start_time": "2021-11-24T18:37:16.350419",
     "status": "completed"
    },
    "tags": [],
    "vscode": {
     "languageId": "r"
    }
   },
   "outputs": [],
   "source": [
    "tripdata_2020$date <- as.Date(tripdata_2020$started_at)\n",
    "tripdata_2020$month <- format(as.Date(tripdata_2020$date), \"%b\")\n",
    "tripdata_2020$day <- format(as.Date(tripdata_2020$date), \"%d\")\n",
    "tripdata_2020$year <- format(as.Date(tripdata_2020$date), \"%Y\")\n",
    "tripdata_2020$day_of_week <- format(as.Date(tripdata_2020$date), \"%A\")"
   ]
  },
  {
   "cell_type": "code",
   "execution_count": 11,
   "id": "f1bfbe2f",
   "metadata": {
    "execution": {
     "iopub.execute_input": "2021-11-24T18:37:34.659127Z",
     "iopub.status.busy": "2021-11-24T18:37:34.658427Z",
     "iopub.status.idle": "2021-11-24T18:37:34.682435Z",
     "shell.execute_reply": "2021-11-24T18:37:34.682978Z"
    },
    "papermill": {
     "duration": 0.15892,
     "end_time": "2021-11-24T18:37:34.683134",
     "exception": false,
     "start_time": "2021-11-24T18:37:34.524214",
     "status": "completed"
    },
    "tags": [],
    "vscode": {
     "languageId": "r"
    }
   },
   "outputs": [
    {
     "data": {
      "text/html": [
       "<table class=\"dataframe\">\n",
       "<caption>A data.frame: 6 × 18</caption>\n",
       "<thead>\n",
       "\t<tr><th></th><th scope=col>ride_id</th><th scope=col>rideable_type</th><th scope=col>started_at</th><th scope=col>ended_at</th><th scope=col>start_station_name</th><th scope=col>start_station_id</th><th scope=col>end_station_name</th><th scope=col>end_station_id</th><th scope=col>start_lat</th><th scope=col>start_lng</th><th scope=col>end_lat</th><th scope=col>end_lng</th><th scope=col>member_casual</th><th scope=col>date</th><th scope=col>month</th><th scope=col>day</th><th scope=col>year</th><th scope=col>day_of_week</th></tr>\n",
       "\t<tr><th></th><th scope=col>&lt;chr&gt;</th><th scope=col>&lt;chr&gt;</th><th scope=col>&lt;chr&gt;</th><th scope=col>&lt;chr&gt;</th><th scope=col>&lt;chr&gt;</th><th scope=col>&lt;int&gt;</th><th scope=col>&lt;chr&gt;</th><th scope=col>&lt;int&gt;</th><th scope=col>&lt;dbl&gt;</th><th scope=col>&lt;dbl&gt;</th><th scope=col>&lt;dbl&gt;</th><th scope=col>&lt;dbl&gt;</th><th scope=col>&lt;chr&gt;</th><th scope=col>&lt;date&gt;</th><th scope=col>&lt;chr&gt;</th><th scope=col>&lt;chr&gt;</th><th scope=col>&lt;chr&gt;</th><th scope=col>&lt;chr&gt;</th></tr>\n",
       "</thead>\n",
       "<tbody>\n",
       "\t<tr><th scope=row>1</th><td>EACB19130B0CDA4A</td><td>docked_bike</td><td>2020-01-21 20:06:59</td><td>2020-01-21 20:14:30</td><td>Western Ave &amp; Leland Ave</td><td>239</td><td><span style=white-space:pre-wrap>Clark St &amp; Leland Ave         </span></td><td>326</td><td>41.9665</td><td>-87.6884</td><td>41.9671</td><td>-87.6674</td><td>member</td><td>2020-01-21</td><td>Jan</td><td>21</td><td>2020</td><td>Tuesday </td></tr>\n",
       "\t<tr><th scope=row>2</th><td>8FED874C809DC021</td><td>docked_bike</td><td>2020-01-30 14:22:39</td><td>2020-01-30 14:26:22</td><td>Clark St &amp; Montrose Ave </td><td>234</td><td>Southport Ave &amp; Irving Park Rd</td><td>318</td><td>41.9616</td><td>-87.6660</td><td>41.9542</td><td>-87.6644</td><td>member</td><td>2020-01-30</td><td>Jan</td><td>30</td><td>2020</td><td>Thursday</td></tr>\n",
       "\t<tr><th scope=row>3</th><td>789F3C21E472CA96</td><td>docked_bike</td><td>2020-01-09 19:29:26</td><td>2020-01-09 19:32:17</td><td><span style=white-space:pre-wrap>Broadway &amp; Belmont Ave  </span></td><td>296</td><td><span style=white-space:pre-wrap>Wilton Ave &amp; Belmont Ave      </span></td><td>117</td><td>41.9401</td><td>-87.6455</td><td>41.9402</td><td>-87.6530</td><td>member</td><td>2020-01-09</td><td>Jan</td><td>09</td><td>2020</td><td>Thursday</td></tr>\n",
       "\t<tr><th scope=row>4</th><td>C9A388DAC6ABF313</td><td>docked_bike</td><td>2020-01-06 16:17:07</td><td>2020-01-06 16:25:56</td><td><span style=white-space:pre-wrap>Clark St &amp; Randolph St  </span></td><td> 51</td><td><span style=white-space:pre-wrap>Fairbanks Ct &amp; Grand Ave      </span></td><td> 24</td><td>41.8846</td><td>-87.6319</td><td>41.8918</td><td>-87.6206</td><td>member</td><td>2020-01-06</td><td>Jan</td><td>06</td><td>2020</td><td><span style=white-space:pre-wrap>Monday  </span></td></tr>\n",
       "\t<tr><th scope=row>5</th><td>943BC3CBECCFD662</td><td>docked_bike</td><td>2020-01-30 08:37:16</td><td>2020-01-30 08:42:48</td><td><span style=white-space:pre-wrap>Clinton St &amp; Lake St    </span></td><td> 66</td><td><span style=white-space:pre-wrap>Wells St &amp; Hubbard St         </span></td><td>212</td><td>41.8856</td><td>-87.6418</td><td>41.8899</td><td>-87.6343</td><td>member</td><td>2020-01-30</td><td>Jan</td><td>30</td><td>2020</td><td>Thursday</td></tr>\n",
       "\t<tr><th scope=row>6</th><td>6D9C8A6938165C11</td><td>docked_bike</td><td>2020-01-10 12:33:05</td><td>2020-01-10 12:37:54</td><td><span style=white-space:pre-wrap>Wells St &amp; Hubbard St   </span></td><td>212</td><td><span style=white-space:pre-wrap>Desplaines St &amp; Randolph St   </span></td><td> 96</td><td>41.8899</td><td>-87.6343</td><td>41.8846</td><td>-87.6446</td><td>member</td><td>2020-01-10</td><td>Jan</td><td>10</td><td>2020</td><td><span style=white-space:pre-wrap>Friday  </span></td></tr>\n",
       "</tbody>\n",
       "</table>\n"
      ],
      "text/latex": [
       "A data.frame: 6 × 18\n",
       "\\begin{tabular}{r|llllllllllllllllll}\n",
       "  & ride\\_id & rideable\\_type & started\\_at & ended\\_at & start\\_station\\_name & start\\_station\\_id & end\\_station\\_name & end\\_station\\_id & start\\_lat & start\\_lng & end\\_lat & end\\_lng & member\\_casual & date & month & day & year & day\\_of\\_week\\\\\n",
       "  & <chr> & <chr> & <chr> & <chr> & <chr> & <int> & <chr> & <int> & <dbl> & <dbl> & <dbl> & <dbl> & <chr> & <date> & <chr> & <chr> & <chr> & <chr>\\\\\n",
       "\\hline\n",
       "\t1 & EACB19130B0CDA4A & docked\\_bike & 2020-01-21 20:06:59 & 2020-01-21 20:14:30 & Western Ave \\& Leland Ave & 239 & Clark St \\& Leland Ave          & 326 & 41.9665 & -87.6884 & 41.9671 & -87.6674 & member & 2020-01-21 & Jan & 21 & 2020 & Tuesday \\\\\n",
       "\t2 & 8FED874C809DC021 & docked\\_bike & 2020-01-30 14:22:39 & 2020-01-30 14:26:22 & Clark St \\& Montrose Ave  & 234 & Southport Ave \\& Irving Park Rd & 318 & 41.9616 & -87.6660 & 41.9542 & -87.6644 & member & 2020-01-30 & Jan & 30 & 2020 & Thursday\\\\\n",
       "\t3 & 789F3C21E472CA96 & docked\\_bike & 2020-01-09 19:29:26 & 2020-01-09 19:32:17 & Broadway \\& Belmont Ave   & 296 & Wilton Ave \\& Belmont Ave       & 117 & 41.9401 & -87.6455 & 41.9402 & -87.6530 & member & 2020-01-09 & Jan & 09 & 2020 & Thursday\\\\\n",
       "\t4 & C9A388DAC6ABF313 & docked\\_bike & 2020-01-06 16:17:07 & 2020-01-06 16:25:56 & Clark St \\& Randolph St   &  51 & Fairbanks Ct \\& Grand Ave       &  24 & 41.8846 & -87.6319 & 41.8918 & -87.6206 & member & 2020-01-06 & Jan & 06 & 2020 & Monday  \\\\\n",
       "\t5 & 943BC3CBECCFD662 & docked\\_bike & 2020-01-30 08:37:16 & 2020-01-30 08:42:48 & Clinton St \\& Lake St     &  66 & Wells St \\& Hubbard St          & 212 & 41.8856 & -87.6418 & 41.8899 & -87.6343 & member & 2020-01-30 & Jan & 30 & 2020 & Thursday\\\\\n",
       "\t6 & 6D9C8A6938165C11 & docked\\_bike & 2020-01-10 12:33:05 & 2020-01-10 12:37:54 & Wells St \\& Hubbard St    & 212 & Desplaines St \\& Randolph St    &  96 & 41.8899 & -87.6343 & 41.8846 & -87.6446 & member & 2020-01-10 & Jan & 10 & 2020 & Friday  \\\\\n",
       "\\end{tabular}\n"
      ],
      "text/markdown": [
       "\n",
       "A data.frame: 6 × 18\n",
       "\n",
       "| <!--/--> | ride_id &lt;chr&gt; | rideable_type &lt;chr&gt; | started_at &lt;chr&gt; | ended_at &lt;chr&gt; | start_station_name &lt;chr&gt; | start_station_id &lt;int&gt; | end_station_name &lt;chr&gt; | end_station_id &lt;int&gt; | start_lat &lt;dbl&gt; | start_lng &lt;dbl&gt; | end_lat &lt;dbl&gt; | end_lng &lt;dbl&gt; | member_casual &lt;chr&gt; | date &lt;date&gt; | month &lt;chr&gt; | day &lt;chr&gt; | year &lt;chr&gt; | day_of_week &lt;chr&gt; |\n",
       "|---|---|---|---|---|---|---|---|---|---|---|---|---|---|---|---|---|---|---|\n",
       "| 1 | EACB19130B0CDA4A | docked_bike | 2020-01-21 20:06:59 | 2020-01-21 20:14:30 | Western Ave &amp; Leland Ave | 239 | Clark St &amp; Leland Ave          | 326 | 41.9665 | -87.6884 | 41.9671 | -87.6674 | member | 2020-01-21 | Jan | 21 | 2020 | Tuesday  |\n",
       "| 2 | 8FED874C809DC021 | docked_bike | 2020-01-30 14:22:39 | 2020-01-30 14:26:22 | Clark St &amp; Montrose Ave  | 234 | Southport Ave &amp; Irving Park Rd | 318 | 41.9616 | -87.6660 | 41.9542 | -87.6644 | member | 2020-01-30 | Jan | 30 | 2020 | Thursday |\n",
       "| 3 | 789F3C21E472CA96 | docked_bike | 2020-01-09 19:29:26 | 2020-01-09 19:32:17 | Broadway &amp; Belmont Ave   | 296 | Wilton Ave &amp; Belmont Ave       | 117 | 41.9401 | -87.6455 | 41.9402 | -87.6530 | member | 2020-01-09 | Jan | 09 | 2020 | Thursday |\n",
       "| 4 | C9A388DAC6ABF313 | docked_bike | 2020-01-06 16:17:07 | 2020-01-06 16:25:56 | Clark St &amp; Randolph St   |  51 | Fairbanks Ct &amp; Grand Ave       |  24 | 41.8846 | -87.6319 | 41.8918 | -87.6206 | member | 2020-01-06 | Jan | 06 | 2020 | Monday   |\n",
       "| 5 | 943BC3CBECCFD662 | docked_bike | 2020-01-30 08:37:16 | 2020-01-30 08:42:48 | Clinton St &amp; Lake St     |  66 | Wells St &amp; Hubbard St          | 212 | 41.8856 | -87.6418 | 41.8899 | -87.6343 | member | 2020-01-30 | Jan | 30 | 2020 | Thursday |\n",
       "| 6 | 6D9C8A6938165C11 | docked_bike | 2020-01-10 12:33:05 | 2020-01-10 12:37:54 | Wells St &amp; Hubbard St    | 212 | Desplaines St &amp; Randolph St    |  96 | 41.8899 | -87.6343 | 41.8846 | -87.6446 | member | 2020-01-10 | Jan | 10 | 2020 | Friday   |\n",
       "\n"
      ],
      "text/plain": [
       "  ride_id          rideable_type started_at          ended_at           \n",
       "1 EACB19130B0CDA4A docked_bike   2020-01-21 20:06:59 2020-01-21 20:14:30\n",
       "2 8FED874C809DC021 docked_bike   2020-01-30 14:22:39 2020-01-30 14:26:22\n",
       "3 789F3C21E472CA96 docked_bike   2020-01-09 19:29:26 2020-01-09 19:32:17\n",
       "4 C9A388DAC6ABF313 docked_bike   2020-01-06 16:17:07 2020-01-06 16:25:56\n",
       "5 943BC3CBECCFD662 docked_bike   2020-01-30 08:37:16 2020-01-30 08:42:48\n",
       "6 6D9C8A6938165C11 docked_bike   2020-01-10 12:33:05 2020-01-10 12:37:54\n",
       "  start_station_name       start_station_id end_station_name              \n",
       "1 Western Ave & Leland Ave 239              Clark St & Leland Ave         \n",
       "2 Clark St & Montrose Ave  234              Southport Ave & Irving Park Rd\n",
       "3 Broadway & Belmont Ave   296              Wilton Ave & Belmont Ave      \n",
       "4 Clark St & Randolph St    51              Fairbanks Ct & Grand Ave      \n",
       "5 Clinton St & Lake St      66              Wells St & Hubbard St         \n",
       "6 Wells St & Hubbard St    212              Desplaines St & Randolph St   \n",
       "  end_station_id start_lat start_lng end_lat end_lng  member_casual date      \n",
       "1 326            41.9665   -87.6884  41.9671 -87.6674 member        2020-01-21\n",
       "2 318            41.9616   -87.6660  41.9542 -87.6644 member        2020-01-30\n",
       "3 117            41.9401   -87.6455  41.9402 -87.6530 member        2020-01-09\n",
       "4  24            41.8846   -87.6319  41.8918 -87.6206 member        2020-01-06\n",
       "5 212            41.8856   -87.6418  41.8899 -87.6343 member        2020-01-30\n",
       "6  96            41.8899   -87.6343  41.8846 -87.6446 member        2020-01-10\n",
       "  month day year day_of_week\n",
       "1 Jan   21  2020 Tuesday    \n",
       "2 Jan   30  2020 Thursday   \n",
       "3 Jan   09  2020 Thursday   \n",
       "4 Jan   06  2020 Monday     \n",
       "5 Jan   30  2020 Thursday   \n",
       "6 Jan   10  2020 Friday     "
      ]
     },
     "metadata": {},
     "output_type": "display_data"
    }
   ],
   "source": [
    "head(tripdata_2020)"
   ]
  },
  {
   "cell_type": "markdown",
   "id": "4d647221",
   "metadata": {
    "papermill": {
     "duration": 0.243044,
     "end_time": "2021-11-24T18:37:35.169308",
     "exception": false,
     "start_time": "2021-11-24T18:37:34.926264",
     "status": "completed"
    },
    "tags": []
   },
   "source": [
    "To further clean we will remove all NA's and duplicates cells "
   ]
  },
  {
   "cell_type": "code",
   "execution_count": 12,
   "id": "d40a29ce",
   "metadata": {
    "execution": {
     "iopub.execute_input": "2021-11-24T18:37:35.662419Z",
     "iopub.status.busy": "2021-11-24T18:37:35.661110Z",
     "iopub.status.idle": "2021-11-24T18:37:39.703399Z",
     "shell.execute_reply": "2021-11-24T18:37:39.701765Z"
    },
    "papermill": {
     "duration": 4.292086,
     "end_time": "2021-11-24T18:37:39.703518",
     "exception": false,
     "start_time": "2021-11-24T18:37:35.411432",
     "status": "completed"
    },
    "tags": [],
    "vscode": {
     "languageId": "r"
    }
   },
   "outputs": [],
   "source": [
    "## Removing NA's\n",
    "\n",
    "tripdata_2020 <- drop_na(tripdata_2020)"
   ]
  },
  {
   "cell_type": "code",
   "execution_count": 13,
   "id": "244117f2",
   "metadata": {
    "execution": {
     "iopub.execute_input": "2021-11-24T18:37:39.978766Z",
     "iopub.status.busy": "2021-11-24T18:37:39.976874Z",
     "iopub.status.idle": "2021-11-24T18:37:47.745320Z",
     "shell.execute_reply": "2021-11-24T18:37:47.744141Z"
    },
    "papermill": {
     "duration": 7.908281,
     "end_time": "2021-11-24T18:37:47.745425",
     "exception": false,
     "start_time": "2021-11-24T18:37:39.837144",
     "status": "completed"
    },
    "tags": [],
    "vscode": {
     "languageId": "r"
    }
   },
   "outputs": [
    {
     "name": "stdout",
     "output_type": "stream",
     "text": [
      "[1] \"Removed 44 duplicate rows\"\n"
     ]
    }
   ],
   "source": [
    "## Remove duplicates from dataframe\n",
    "\n",
    "tripdata_2020_no_duplicates <- tripdata_2020[!duplicated(tripdata_2020$ride_id), ]\n",
    "print(paste(\"Removed\", nrow(tripdata_2020) - nrow(tripdata_2020_no_duplicates), \"duplicate rows\"))"
   ]
  },
  {
   "cell_type": "markdown",
   "id": "9001dd57",
   "metadata": {
    "papermill": {
     "duration": 0.132403,
     "end_time": "2021-11-24T18:37:48.009641",
     "exception": false,
     "start_time": "2021-11-24T18:37:47.877238",
     "status": "completed"
    },
    "tags": []
   },
   "source": [
    "### Data manipulation"
   ]
  },
  {
   "cell_type": "code",
   "execution_count": 14,
   "id": "5973a465",
   "metadata": {
    "execution": {
     "iopub.execute_input": "2021-11-24T18:37:48.279987Z",
     "iopub.status.busy": "2021-11-24T18:37:48.278284Z",
     "iopub.status.idle": "2021-11-24T18:38:09.580255Z",
     "shell.execute_reply": "2021-11-24T18:38:09.578159Z"
    },
    "papermill": {
     "duration": 21.437291,
     "end_time": "2021-11-24T18:38:09.580409",
     "exception": false,
     "start_time": "2021-11-24T18:37:48.143118",
     "status": "completed"
    },
    "tags": [],
    "vscode": {
     "languageId": "r"
    }
   },
   "outputs": [
    {
     "name": "stdout",
     "output_type": "stream",
     "text": [
      "'data.frame':\t3298800 obs. of  19 variables:\n",
      " $ ride_id           : chr  \"EACB19130B0CDA4A\" \"8FED874C809DC021\" \"789F3C21E472CA96\" \"C9A388DAC6ABF313\" ...\n",
      " $ rideable_type     : chr  \"docked_bike\" \"docked_bike\" \"docked_bike\" \"docked_bike\" ...\n",
      " $ started_at        : chr  \"2020-01-21 20:06:59\" \"2020-01-30 14:22:39\" \"2020-01-09 19:29:26\" \"2020-01-06 16:17:07\" ...\n",
      " $ ended_at          : chr  \"2020-01-21 20:14:30\" \"2020-01-30 14:26:22\" \"2020-01-09 19:32:17\" \"2020-01-06 16:25:56\" ...\n",
      " $ start_station_name: chr  \"Western Ave & Leland Ave\" \"Clark St & Montrose Ave\" \"Broadway & Belmont Ave\" \"Clark St & Randolph St\" ...\n",
      " $ start_station_id  : int  239 234 296 51 66 212 96 96 212 38 ...\n",
      " $ end_station_name  : chr  \"Clark St & Leland Ave\" \"Southport Ave & Irving Park Rd\" \"Wilton Ave & Belmont Ave\" \"Fairbanks Ct & Grand Ave\" ...\n",
      " $ end_station_id    : int  326 318 117 24 212 96 212 212 96 100 ...\n",
      " $ start_lat         : num  42 42 41.9 41.9 41.9 ...\n",
      " $ start_lng         : num  -87.7 -87.7 -87.6 -87.6 -87.6 ...\n",
      " $ end_lat           : num  42 42 41.9 41.9 41.9 ...\n",
      " $ end_lng           : num  -87.7 -87.7 -87.7 -87.6 -87.6 ...\n",
      " $ member_casual     : chr  \"member\" \"member\" \"member\" \"member\" ...\n",
      " $ date              : Date, format: \"2020-01-21\" \"2020-01-30\" ...\n",
      " $ month             : chr  \"Jan\" \"Jan\" \"Jan\" \"Jan\" ...\n",
      " $ day               : chr  \"21\" \"30\" \"09\" \"06\" ...\n",
      " $ year              : chr  \"2020\" \"2020\" \"2020\" \"2020\" ...\n",
      " $ day_of_week       : chr  \"Tuesday\" \"Thursday\" \"Thursday\" \"Monday\" ...\n",
      " $ ride_length       : 'difftime' num  7.51666666666667 3.71666666666667 2.85 8.81666666666667 ...\n",
      "  ..- attr(*, \"units\")= chr \"mins\"\n"
     ]
    }
   ],
   "source": [
    "## Creating a column to determine the ride length \n",
    "\n",
    "tripdata_2020_v2 <- mutate(tripdata_2020_no_duplicates, ride_length = difftime(ended_at, started_at, units = \"mins\"))\n",
    "str(tripdata_2020_v2)"
   ]
  },
  {
   "cell_type": "code",
   "execution_count": 15,
   "id": "0dac819b",
   "metadata": {
    "execution": {
     "iopub.execute_input": "2021-11-24T18:38:09.853322Z",
     "iopub.status.busy": "2021-11-24T18:38:09.852644Z",
     "iopub.status.idle": "2021-11-24T18:38:15.946837Z",
     "shell.execute_reply": "2021-11-24T18:38:15.945287Z"
    },
    "papermill": {
     "duration": 6.23268,
     "end_time": "2021-11-24T18:38:15.947017",
     "exception": false,
     "start_time": "2021-11-24T18:38:09.714337",
     "status": "completed"
    },
    "tags": [],
    "vscode": {
     "languageId": "r"
    }
   },
   "outputs": [
    {
     "data": {
      "text/html": [
       "10233"
      ],
      "text/latex": [
       "10233"
      ],
      "text/markdown": [
       "10233"
      ],
      "text/plain": [
       "[1] 10233"
      ]
     },
     "metadata": {},
     "output_type": "display_data"
    },
    {
     "name": "stdout",
     "output_type": "stream",
     "text": [
      "Rows: 3,288,567\n",
      "Columns: 19\n",
      "$ ride_id            \u001b[3m\u001b[90m<chr>\u001b[39m\u001b[23m \"EACB19130B0CDA4A\", \"8FED874C809DC021\", \"789F3C21E4…\n",
      "$ rideable_type      \u001b[3m\u001b[90m<chr>\u001b[39m\u001b[23m \"docked_bike\", \"docked_bike\", \"docked_bike\", \"docke…\n",
      "$ started_at         \u001b[3m\u001b[90m<chr>\u001b[39m\u001b[23m \"2020-01-21 20:06:59\", \"2020-01-30 14:22:39\", \"2020…\n",
      "$ ended_at           \u001b[3m\u001b[90m<chr>\u001b[39m\u001b[23m \"2020-01-21 20:14:30\", \"2020-01-30 14:26:22\", \"2020…\n",
      "$ start_station_name \u001b[3m\u001b[90m<chr>\u001b[39m\u001b[23m \"Western Ave & Leland Ave\", \"Clark St & Montrose Av…\n",
      "$ start_station_id   \u001b[3m\u001b[90m<int>\u001b[39m\u001b[23m 239, 234, 296, 51, 66, 212, 96, 96, 212, 38, 117, 1…\n",
      "$ end_station_name   \u001b[3m\u001b[90m<chr>\u001b[39m\u001b[23m \"Clark St & Leland Ave\", \"Southport Ave & Irving Pa…\n",
      "$ end_station_id     \u001b[3m\u001b[90m<int>\u001b[39m\u001b[23m 326, 318, 117, 24, 212, 96, 212, 212, 96, 100, 632,…\n",
      "$ start_lat          \u001b[3m\u001b[90m<dbl>\u001b[39m\u001b[23m 41.9665, 41.9616, 41.9401, 41.8846, 41.8856, 41.889…\n",
      "$ start_lng          \u001b[3m\u001b[90m<dbl>\u001b[39m\u001b[23m -87.6884, -87.6660, -87.6455, -87.6319, -87.6418, -…\n",
      "$ end_lat            \u001b[3m\u001b[90m<dbl>\u001b[39m\u001b[23m 41.9671, 41.9542, 41.9402, 41.8918, 41.8899, 41.884…\n",
      "$ end_lng            \u001b[3m\u001b[90m<dbl>\u001b[39m\u001b[23m -87.6674, -87.6644, -87.6530, -87.6206, -87.6343, -…\n",
      "$ member_casual      \u001b[3m\u001b[90m<chr>\u001b[39m\u001b[23m \"member\", \"member\", \"member\", \"member\", \"member\", \"…\n",
      "$ date               \u001b[3m\u001b[90m<date>\u001b[39m\u001b[23m 2020-01-21, 2020-01-30, 2020-01-09, 2020-01-06, 20…\n",
      "$ month              \u001b[3m\u001b[90m<chr>\u001b[39m\u001b[23m \"Jan\", \"Jan\", \"Jan\", \"Jan\", \"Jan\", \"Jan\", \"Jan\", \"J…\n",
      "$ day                \u001b[3m\u001b[90m<chr>\u001b[39m\u001b[23m \"21\", \"30\", \"09\", \"06\", \"30\", \"10\", \"10\", \"10\", \"31…\n",
      "$ year               \u001b[3m\u001b[90m<chr>\u001b[39m\u001b[23m \"2020\", \"2020\", \"2020\", \"2020\", \"2020\", \"2020\", \"20…\n",
      "$ day_of_week        \u001b[3m\u001b[90m<chr>\u001b[39m\u001b[23m \"Tuesday\", \"Thursday\", \"Thursday\", \"Monday\", \"Thurs…\n",
      "$ ride_length        \u001b[3m\u001b[90m<drtn>\u001b[39m\u001b[23m 7.516667 mins, 3.716667 mins, 2.850000 mins, 8.816…\n"
     ]
    }
   ],
   "source": [
    "## filtering out trips with a ride length less than 0.\n",
    "\n",
    "nrow(tripdata_2020_v2[tripdata_2020_v2$ride_length < 0,])\n",
    "tripdata_2020_v3 <- tripdata_2020_v2[!tripdata_2020_v2$ride_length <0,]\n",
    "glimpse(tripdata_2020_v3)"
   ]
  },
  {
   "cell_type": "code",
   "execution_count": 16,
   "id": "6a140151",
   "metadata": {
    "execution": {
     "iopub.execute_input": "2021-11-24T18:38:16.459192Z",
     "iopub.status.busy": "2021-11-24T18:38:16.457352Z",
     "iopub.status.idle": "2021-11-24T18:38:16.666137Z",
     "shell.execute_reply": "2021-11-24T18:38:16.665323Z"
    },
    "papermill": {
     "duration": 0.464538,
     "end_time": "2021-11-24T18:38:16.666266",
     "exception": false,
     "start_time": "2021-11-24T18:38:16.201728",
     "status": "completed"
    },
    "tags": [],
    "vscode": {
     "languageId": "r"
    }
   },
   "outputs": [
    {
     "data": {
      "text/plain": [
       "\n",
       " casual  member \n",
       "1278811 2009756 "
      ]
     },
     "metadata": {},
     "output_type": "display_data"
    }
   ],
   "source": [
    "## determining the amount of members vs casual riders\n",
    "\n",
    "rider_type_total <- table(tripdata_2020_v3$member_casual)\n",
    "View(rider_type_total)"
   ]
  },
  {
   "cell_type": "code",
   "execution_count": 17,
   "id": "792858db",
   "metadata": {
    "execution": {
     "iopub.execute_input": "2021-11-24T18:38:16.948173Z",
     "iopub.status.busy": "2021-11-24T18:38:16.947157Z",
     "iopub.status.idle": "2021-11-24T18:38:18.411620Z",
     "shell.execute_reply": "2021-11-24T18:38:18.410450Z"
    },
    "papermill": {
     "duration": 1.605703,
     "end_time": "2021-11-24T18:38:18.411743",
     "exception": false,
     "start_time": "2021-11-24T18:38:16.806040",
     "status": "completed"
    },
    "tags": [],
    "vscode": {
     "languageId": "r"
    }
   },
   "outputs": [
    {
     "data": {
      "text/html": [
       "<table class=\"dataframe\">\n",
       "<caption>A tibble: 2 × 6</caption>\n",
       "<thead>\n",
       "\t<tr><th scope=col>member_casual</th><th scope=col>average_ride_length</th><th scope=col>standard_deviation</th><th scope=col>median_ride_length</th><th scope=col>min_ride_length</th><th scope=col>max_ride_length</th></tr>\n",
       "\t<tr><th scope=col>&lt;chr&gt;</th><th scope=col>&lt;drtn&gt;</th><th scope=col>&lt;dbl&gt;</th><th scope=col>&lt;drtn&gt;</th><th scope=col>&lt;drtn&gt;</th><th scope=col>&lt;drtn&gt;</th></tr>\n",
       "</thead>\n",
       "<tbody>\n",
       "\t<tr><td>casual</td><td>48.26846 mins</td><td>513.9073</td><td>22.06667 mins</td><td>0 mins</td><td>156450.40 mins</td></tr>\n",
       "\t<tr><td>member</td><td>15.75257 mins</td><td>135.1715</td><td>11.23333 mins</td><td>0 mins</td><td> 93793.52 mins</td></tr>\n",
       "</tbody>\n",
       "</table>\n"
      ],
      "text/latex": [
       "A tibble: 2 × 6\n",
       "\\begin{tabular}{llllll}\n",
       " member\\_casual & average\\_ride\\_length & standard\\_deviation & median\\_ride\\_length & min\\_ride\\_length & max\\_ride\\_length\\\\\n",
       " <chr> & <drtn> & <dbl> & <drtn> & <drtn> & <drtn>\\\\\n",
       "\\hline\n",
       "\t casual & 48.26846 mins & 513.9073 & 22.06667 mins & 0 mins & 156450.40 mins\\\\\n",
       "\t member & 15.75257 mins & 135.1715 & 11.23333 mins & 0 mins &  93793.52 mins\\\\\n",
       "\\end{tabular}\n"
      ],
      "text/markdown": [
       "\n",
       "A tibble: 2 × 6\n",
       "\n",
       "| member_casual &lt;chr&gt; | average_ride_length &lt;drtn&gt; | standard_deviation &lt;dbl&gt; | median_ride_length &lt;drtn&gt; | min_ride_length &lt;drtn&gt; | max_ride_length &lt;drtn&gt; |\n",
       "|---|---|---|---|---|---|\n",
       "| casual | 48.26846 mins | 513.9073 | 22.06667 mins | 0 mins | 156450.40 mins |\n",
       "| member | 15.75257 mins | 135.1715 | 11.23333 mins | 0 mins |  93793.52 mins |\n",
       "\n"
      ],
      "text/plain": [
       "  member_casual average_ride_length standard_deviation median_ride_length\n",
       "1 casual        48.26846 mins       513.9073           22.06667 mins     \n",
       "2 member        15.75257 mins       135.1715           11.23333 mins     \n",
       "  min_ride_length max_ride_length\n",
       "1 0 mins          156450.40 mins \n",
       "2 0 mins           93793.52 mins "
      ]
     },
     "metadata": {},
     "output_type": "display_data"
    }
   ],
   "source": [
    "## Statistical analysis\n",
    "\n",
    "trip_stats <- tripdata_2020_v3 %>% \n",
    "  group_by(member_casual) %>% \n",
    "  summarise(average_ride_length = mean(ride_length), standard_deviation = sd(ride_length), median_ride_length = median(ride_length), min_ride_length = min(ride_length), max_ride_length = max(ride_length))\n",
    "head(trip_stats)"
   ]
  },
  {
   "cell_type": "markdown",
   "id": "dd761d81",
   "metadata": {
    "papermill": {
     "duration": 0.139811,
     "end_time": "2021-11-24T18:38:18.693837",
     "exception": false,
     "start_time": "2021-11-24T18:38:18.554026",
     "status": "completed"
    },
    "tags": []
   },
   "source": [
    "With determining the mode for the day of the week I had to find tutorials online to determine the best way and the best way was to create your own function to determine the mode shown below"
   ]
  },
  {
   "cell_type": "code",
   "execution_count": 18,
   "id": "6581aebf",
   "metadata": {
    "execution": {
     "iopub.execute_input": "2021-11-24T18:38:18.977178Z",
     "iopub.status.busy": "2021-11-24T18:38:18.976023Z",
     "iopub.status.idle": "2021-11-24T18:38:19.083539Z",
     "shell.execute_reply": "2021-11-24T18:38:19.081720Z"
    },
    "papermill": {
     "duration": 0.251044,
     "end_time": "2021-11-24T18:38:19.083695",
     "exception": false,
     "start_time": "2021-11-24T18:38:18.832651",
     "status": "completed"
    },
    "tags": [],
    "vscode": {
     "languageId": "r"
    }
   },
   "outputs": [
    {
     "name": "stdout",
     "output_type": "stream",
     "text": [
      "[1] \"Saturday\"\n"
     ]
    }
   ],
   "source": [
    "## Determine the mode for the day of the week (code learnt from tutorialspoint.com)\n",
    "\n",
    "getmode <- function(v) {\n",
    "  uniqv <- unique(v)\n",
    "  uniqv[which.max(tabulate(match(v, uniqv)))]\n",
    "}\n",
    "\n",
    "weekday_mode <- getmode(tripdata_2020_v3$day_of_week)\n",
    "\n",
    "print(weekday_mode) "
   ]
  },
  {
   "cell_type": "markdown",
   "id": "f9f6edbe",
   "metadata": {
    "papermill": {
     "duration": 0.139883,
     "end_time": "2021-11-24T18:38:19.364115",
     "exception": false,
     "start_time": "2021-11-24T18:38:19.224232",
     "status": "completed"
    },
    "tags": []
   },
   "source": [
    "I wanted to examine the day of the week column further. I wanted tio determine which day had the most rides and average ride length for each rider type. There was an issue as the first time the code ran the results were grouped by rider type but the days of the week were out of order which required the ordered code to be included below."
   ]
  },
  {
   "cell_type": "code",
   "execution_count": 19,
   "id": "2d8bbf92",
   "metadata": {
    "execution": {
     "iopub.execute_input": "2021-11-24T18:38:19.651314Z",
     "iopub.status.busy": "2021-11-24T18:38:19.649945Z",
     "iopub.status.idle": "2021-11-24T18:38:19.878695Z",
     "shell.execute_reply": "2021-11-24T18:38:19.877489Z"
    },
    "papermill": {
     "duration": 0.373217,
     "end_time": "2021-11-24T18:38:19.878802",
     "exception": false,
     "start_time": "2021-11-24T18:38:19.505585",
     "status": "completed"
    },
    "tags": [],
    "vscode": {
     "languageId": "r"
    }
   },
   "outputs": [
    {
     "name": "stderr",
     "output_type": "stream",
     "text": [
      "`summarise()` has grouped output by 'member_casual'. You can override using the `.groups` argument.\n",
      "\n"
     ]
    },
    {
     "data": {
      "text/html": [
       "<table class=\"dataframe\">\n",
       "<caption>A grouped_df: 14 × 4</caption>\n",
       "<thead>\n",
       "\t<tr><th scope=col>member_casual</th><th scope=col>day_of_week</th><th scope=col>rider_type_total</th><th scope=col>average_ride_length</th></tr>\n",
       "\t<tr><th scope=col>&lt;chr&gt;</th><th scope=col>&lt;ord&gt;</th><th scope=col>&lt;int&gt;</th><th scope=col>&lt;drtn&gt;</th></tr>\n",
       "</thead>\n",
       "<tbody>\n",
       "\t<tr><td>casual</td><td>Monday   </td><td>131841</td><td>47.31794 mins</td></tr>\n",
       "\t<tr><td>casual</td><td>Tuesday  </td><td>127458</td><td>43.62078 mins</td></tr>\n",
       "\t<tr><td>casual</td><td>Wednesday</td><td>141078</td><td>43.62189 mins</td></tr>\n",
       "\t<tr><td>casual</td><td>Thursday </td><td>150554</td><td>47.54290 mins</td></tr>\n",
       "\t<tr><td>casual</td><td>Friday   </td><td>189172</td><td>46.16261 mins</td></tr>\n",
       "\t<tr><td>casual</td><td>Saturday </td><td>296820</td><td>49.18459 mins</td></tr>\n",
       "\t<tr><td>casual</td><td>Sunday   </td><td>241888</td><td>54.91994 mins</td></tr>\n",
       "\t<tr><td>member</td><td>Monday   </td><td>270122</td><td>14.96700 mins</td></tr>\n",
       "\t<tr><td>member</td><td>Tuesday  </td><td>290133</td><td>14.53046 mins</td></tr>\n",
       "\t<tr><td>member</td><td>Wednesday</td><td>303579</td><td>14.73450 mins</td></tr>\n",
       "\t<tr><td>member</td><td>Thursday </td><td>302916</td><td>14.73337 mins</td></tr>\n",
       "\t<tr><td>member</td><td>Friday   </td><td>302917</td><td>15.46833 mins</td></tr>\n",
       "\t<tr><td>member</td><td>Saturday </td><td>289554</td><td>17.95128 mins</td></tr>\n",
       "\t<tr><td>member</td><td>Sunday   </td><td>250535</td><td>18.28323 mins</td></tr>\n",
       "</tbody>\n",
       "</table>\n"
      ],
      "text/latex": [
       "A grouped\\_df: 14 × 4\n",
       "\\begin{tabular}{llll}\n",
       " member\\_casual & day\\_of\\_week & rider\\_type\\_total & average\\_ride\\_length\\\\\n",
       " <chr> & <ord> & <int> & <drtn>\\\\\n",
       "\\hline\n",
       "\t casual & Monday    & 131841 & 47.31794 mins\\\\\n",
       "\t casual & Tuesday   & 127458 & 43.62078 mins\\\\\n",
       "\t casual & Wednesday & 141078 & 43.62189 mins\\\\\n",
       "\t casual & Thursday  & 150554 & 47.54290 mins\\\\\n",
       "\t casual & Friday    & 189172 & 46.16261 mins\\\\\n",
       "\t casual & Saturday  & 296820 & 49.18459 mins\\\\\n",
       "\t casual & Sunday    & 241888 & 54.91994 mins\\\\\n",
       "\t member & Monday    & 270122 & 14.96700 mins\\\\\n",
       "\t member & Tuesday   & 290133 & 14.53046 mins\\\\\n",
       "\t member & Wednesday & 303579 & 14.73450 mins\\\\\n",
       "\t member & Thursday  & 302916 & 14.73337 mins\\\\\n",
       "\t member & Friday    & 302917 & 15.46833 mins\\\\\n",
       "\t member & Saturday  & 289554 & 17.95128 mins\\\\\n",
       "\t member & Sunday    & 250535 & 18.28323 mins\\\\\n",
       "\\end{tabular}\n"
      ],
      "text/markdown": [
       "\n",
       "A grouped_df: 14 × 4\n",
       "\n",
       "| member_casual &lt;chr&gt; | day_of_week &lt;ord&gt; | rider_type_total &lt;int&gt; | average_ride_length &lt;drtn&gt; |\n",
       "|---|---|---|---|\n",
       "| casual | Monday    | 131841 | 47.31794 mins |\n",
       "| casual | Tuesday   | 127458 | 43.62078 mins |\n",
       "| casual | Wednesday | 141078 | 43.62189 mins |\n",
       "| casual | Thursday  | 150554 | 47.54290 mins |\n",
       "| casual | Friday    | 189172 | 46.16261 mins |\n",
       "| casual | Saturday  | 296820 | 49.18459 mins |\n",
       "| casual | Sunday    | 241888 | 54.91994 mins |\n",
       "| member | Monday    | 270122 | 14.96700 mins |\n",
       "| member | Tuesday   | 290133 | 14.53046 mins |\n",
       "| member | Wednesday | 303579 | 14.73450 mins |\n",
       "| member | Thursday  | 302916 | 14.73337 mins |\n",
       "| member | Friday    | 302917 | 15.46833 mins |\n",
       "| member | Saturday  | 289554 | 17.95128 mins |\n",
       "| member | Sunday    | 250535 | 18.28323 mins |\n",
       "\n"
      ],
      "text/plain": [
       "   member_casual day_of_week rider_type_total average_ride_length\n",
       "1  casual        Monday      131841           47.31794 mins      \n",
       "2  casual        Tuesday     127458           43.62078 mins      \n",
       "3  casual        Wednesday   141078           43.62189 mins      \n",
       "4  casual        Thursday    150554           47.54290 mins      \n",
       "5  casual        Friday      189172           46.16261 mins      \n",
       "6  casual        Saturday    296820           49.18459 mins      \n",
       "7  casual        Sunday      241888           54.91994 mins      \n",
       "8  member        Monday      270122           14.96700 mins      \n",
       "9  member        Tuesday     290133           14.53046 mins      \n",
       "10 member        Wednesday   303579           14.73450 mins      \n",
       "11 member        Thursday    302916           14.73337 mins      \n",
       "12 member        Friday      302917           15.46833 mins      \n",
       "13 member        Saturday    289554           17.95128 mins      \n",
       "14 member        Sunday      250535           18.28323 mins      "
      ]
     },
     "metadata": {},
     "output_type": "display_data"
    }
   ],
   "source": [
    "## Determining the most popular day by rider type\n",
    "\n",
    "tripdata_2020_v3$day_of_week <- ordered(tripdata_2020_v3$day_of_week, levels = c(\"Monday\", \"Tuesday\", \"Wednesday\", \"Thursday\", \"Friday\", \"Saturday\", \"Sunday\"))\n",
    "\n",
    "tripdata_2020_v3 %>% \n",
    "  group_by(member_casual, day_of_week) %>% \n",
    "  summarise(rider_type_total = n(), average_ride_length = mean(ride_length)) %>% \n",
    "  arrange(member_casual, day_of_week)\n"
   ]
  },
  {
   "cell_type": "code",
   "execution_count": 20,
   "id": "a47d3033",
   "metadata": {
    "execution": {
     "iopub.execute_input": "2021-11-24T18:38:20.170070Z",
     "iopub.status.busy": "2021-11-24T18:38:20.169165Z",
     "iopub.status.idle": "2021-11-24T18:38:21.102982Z",
     "shell.execute_reply": "2021-11-24T18:38:21.101910Z"
    },
    "papermill": {
     "duration": 1.080717,
     "end_time": "2021-11-24T18:38:21.103095",
     "exception": false,
     "start_time": "2021-11-24T18:38:20.022378",
     "status": "completed"
    },
    "tags": [],
    "vscode": {
     "languageId": "r"
    }
   },
   "outputs": [
    {
     "data": {
      "text/html": [
       "<table class=\"dataframe\">\n",
       "<caption>A tibble: 12 × 3</caption>\n",
       "<thead>\n",
       "\t<tr><th scope=col>month</th><th scope=col>number_of_rides</th><th scope=col>average_duration</th></tr>\n",
       "\t<tr><th scope=col>&lt;chr&gt;</th><th scope=col>&lt;int&gt;</th><th scope=col>&lt;drtn&gt;</th></tr>\n",
       "</thead>\n",
       "<tbody>\n",
       "\t<tr><td>Aug</td><td>605746</td><td>29.45476 mins</td></tr>\n",
       "\t<tr><td>Jul</td><td>548681</td><td>37.95560 mins</td></tr>\n",
       "\t<tr><td>Sep</td><td>498263</td><td>25.24794 mins</td></tr>\n",
       "\t<tr><td>Jun</td><td>342069</td><td>33.28887 mins</td></tr>\n",
       "\t<tr><td>Oct</td><td>337400</td><td>20.23304 mins</td></tr>\n",
       "\t<tr><td>Nov</td><td>221935</td><td>20.05132 mins</td></tr>\n",
       "\t<tr><td>May</td><td>199782</td><td>33.04914 mins</td></tr>\n",
       "\t<tr><td>Jan</td><td>143884</td><td>19.29203 mins</td></tr>\n",
       "\t<tr><td>Mar</td><td>143302</td><td>23.73149 mins</td></tr>\n",
       "\t<tr><td>Feb</td><td>139584</td><td>23.38450 mins</td></tr>\n",
       "\t<tr><td>Apr</td><td> 84626</td><td>35.60738 mins</td></tr>\n",
       "\t<tr><td>Dec</td><td> 23295</td><td>17.89633 mins</td></tr>\n",
       "</tbody>\n",
       "</table>\n"
      ],
      "text/latex": [
       "A tibble: 12 × 3\n",
       "\\begin{tabular}{lll}\n",
       " month & number\\_of\\_rides & average\\_duration\\\\\n",
       " <chr> & <int> & <drtn>\\\\\n",
       "\\hline\n",
       "\t Aug & 605746 & 29.45476 mins\\\\\n",
       "\t Jul & 548681 & 37.95560 mins\\\\\n",
       "\t Sep & 498263 & 25.24794 mins\\\\\n",
       "\t Jun & 342069 & 33.28887 mins\\\\\n",
       "\t Oct & 337400 & 20.23304 mins\\\\\n",
       "\t Nov & 221935 & 20.05132 mins\\\\\n",
       "\t May & 199782 & 33.04914 mins\\\\\n",
       "\t Jan & 143884 & 19.29203 mins\\\\\n",
       "\t Mar & 143302 & 23.73149 mins\\\\\n",
       "\t Feb & 139584 & 23.38450 mins\\\\\n",
       "\t Apr &  84626 & 35.60738 mins\\\\\n",
       "\t Dec &  23295 & 17.89633 mins\\\\\n",
       "\\end{tabular}\n"
      ],
      "text/markdown": [
       "\n",
       "A tibble: 12 × 3\n",
       "\n",
       "| month &lt;chr&gt; | number_of_rides &lt;int&gt; | average_duration &lt;drtn&gt; |\n",
       "|---|---|---|\n",
       "| Aug | 605746 | 29.45476 mins |\n",
       "| Jul | 548681 | 37.95560 mins |\n",
       "| Sep | 498263 | 25.24794 mins |\n",
       "| Jun | 342069 | 33.28887 mins |\n",
       "| Oct | 337400 | 20.23304 mins |\n",
       "| Nov | 221935 | 20.05132 mins |\n",
       "| May | 199782 | 33.04914 mins |\n",
       "| Jan | 143884 | 19.29203 mins |\n",
       "| Mar | 143302 | 23.73149 mins |\n",
       "| Feb | 139584 | 23.38450 mins |\n",
       "| Apr |  84626 | 35.60738 mins |\n",
       "| Dec |  23295 | 17.89633 mins |\n",
       "\n"
      ],
      "text/plain": [
       "   month number_of_rides average_duration\n",
       "1  Aug   605746          29.45476 mins   \n",
       "2  Jul   548681          37.95560 mins   \n",
       "3  Sep   498263          25.24794 mins   \n",
       "4  Jun   342069          33.28887 mins   \n",
       "5  Oct   337400          20.23304 mins   \n",
       "6  Nov   221935          20.05132 mins   \n",
       "7  May   199782          33.04914 mins   \n",
       "8  Jan   143884          19.29203 mins   \n",
       "9  Mar   143302          23.73149 mins   \n",
       "10 Feb   139584          23.38450 mins   \n",
       "11 Apr    84626          35.60738 mins   \n",
       "12 Dec    23295          17.89633 mins   "
      ]
     },
     "metadata": {},
     "output_type": "display_data"
    }
   ],
   "source": [
    "## Determining the most popular months during 2020\n",
    "\n",
    "popular_month <- tripdata_2020_v3 %>% \n",
    "  group_by(month) %>% \n",
    "  summarise(number_of_rides = n(), average_duration = mean(ride_length)) %>% \n",
    "  arrange(-number_of_rides)\n",
    "\n",
    "View(popular_month)"
   ]
  },
  {
   "cell_type": "code",
   "execution_count": 21,
   "id": "caaafc0e",
   "metadata": {
    "execution": {
     "iopub.execute_input": "2021-11-24T18:38:21.398557Z",
     "iopub.status.busy": "2021-11-24T18:38:21.397552Z",
     "iopub.status.idle": "2021-11-24T18:38:21.504739Z",
     "shell.execute_reply": "2021-11-24T18:38:21.503764Z"
    },
    "papermill": {
     "duration": 0.257562,
     "end_time": "2021-11-24T18:38:21.504871",
     "exception": false,
     "start_time": "2021-11-24T18:38:21.247309",
     "status": "completed"
    },
    "tags": [],
    "vscode": {
     "languageId": "r"
    }
   },
   "outputs": [
    {
     "name": "stdout",
     "output_type": "stream",
     "text": [
      "[1] \"Streeter Dr & Grand Ave\"\n"
     ]
    }
   ],
   "source": [
    "## Determine the most popular start station\n",
    "\n",
    "station_mode <- getmode(tripdata_2020_v3$start_station_name)\n",
    "\n",
    "print(station_mode)"
   ]
  },
  {
   "cell_type": "code",
   "execution_count": 22,
   "id": "ae8b7fb6",
   "metadata": {
    "execution": {
     "iopub.execute_input": "2021-11-24T18:38:21.802818Z",
     "iopub.status.busy": "2021-11-24T18:38:21.801426Z",
     "iopub.status.idle": "2021-11-24T18:38:26.521542Z",
     "shell.execute_reply": "2021-11-24T18:38:26.520273Z"
    },
    "papermill": {
     "duration": 4.870225,
     "end_time": "2021-11-24T18:38:26.521670",
     "exception": false,
     "start_time": "2021-11-24T18:38:21.651445",
     "status": "completed"
    },
    "tags": [],
    "vscode": {
     "languageId": "r"
    }
   },
   "outputs": [
    {
     "data": {
      "text/html": [
       "<table class=\"dataframe\">\n",
       "<caption>A tibble: 6 × 2</caption>\n",
       "<thead>\n",
       "\t<tr><th scope=col>start_station_name</th><th scope=col>number_of_starts</th></tr>\n",
       "\t<tr><th scope=col>&lt;chr&gt;</th><th scope=col>&lt;int&gt;</th></tr>\n",
       "</thead>\n",
       "<tbody>\n",
       "\t<tr><td><span style=white-space:pre-wrap>Clark St &amp; Elm St       </span></td><td>19195</td></tr>\n",
       "\t<tr><td>Kingsbury St &amp; Kinzie St</td><td>15610</td></tr>\n",
       "\t<tr><td><span style=white-space:pre-wrap>St. Clair St &amp; Erie St  </span></td><td>15309</td></tr>\n",
       "\t<tr><td><span style=white-space:pre-wrap>Broadway &amp; Barry Ave    </span></td><td>15231</td></tr>\n",
       "\t<tr><td><span style=white-space:pre-wrap>Dearborn St &amp; Erie St   </span></td><td>15203</td></tr>\n",
       "\t<tr><td><span style=white-space:pre-wrap>Wells St &amp; Concord Ln   </span></td><td>14625</td></tr>\n",
       "</tbody>\n",
       "</table>\n"
      ],
      "text/latex": [
       "A tibble: 6 × 2\n",
       "\\begin{tabular}{ll}\n",
       " start\\_station\\_name & number\\_of\\_starts\\\\\n",
       " <chr> & <int>\\\\\n",
       "\\hline\n",
       "\t Clark St \\& Elm St        & 19195\\\\\n",
       "\t Kingsbury St \\& Kinzie St & 15610\\\\\n",
       "\t St. Clair St \\& Erie St   & 15309\\\\\n",
       "\t Broadway \\& Barry Ave     & 15231\\\\\n",
       "\t Dearborn St \\& Erie St    & 15203\\\\\n",
       "\t Wells St \\& Concord Ln    & 14625\\\\\n",
       "\\end{tabular}\n"
      ],
      "text/markdown": [
       "\n",
       "A tibble: 6 × 2\n",
       "\n",
       "| start_station_name &lt;chr&gt; | number_of_starts &lt;int&gt; |\n",
       "|---|---|\n",
       "| Clark St &amp; Elm St        | 19195 |\n",
       "| Kingsbury St &amp; Kinzie St | 15610 |\n",
       "| St. Clair St &amp; Erie St   | 15309 |\n",
       "| Broadway &amp; Barry Ave     | 15231 |\n",
       "| Dearborn St &amp; Erie St    | 15203 |\n",
       "| Wells St &amp; Concord Ln    | 14625 |\n",
       "\n"
      ],
      "text/plain": [
       "  start_station_name       number_of_starts\n",
       "1 Clark St & Elm St        19195           \n",
       "2 Kingsbury St & Kinzie St 15610           \n",
       "3 St. Clair St & Erie St   15309           \n",
       "4 Broadway & Barry Ave     15231           \n",
       "5 Dearborn St & Erie St    15203           \n",
       "6 Wells St & Concord Ln    14625           "
      ]
     },
     "metadata": {},
     "output_type": "display_data"
    }
   ],
   "source": [
    "## Determine the most popular start station for members\n",
    "\n",
    "popular_start_stations_member <- tripdata_2020_v3 %>% \n",
    "  filter(member_casual == 'member') %>% \n",
    "  group_by(start_station_name) %>% \n",
    "  summarise(number_of_starts = n()) %>% \n",
    "  filter(start_station_name != \"\") %>% \n",
    "  arrange(- number_of_starts)\n",
    "\n",
    "head(popular_start_stations_member)"
   ]
  },
  {
   "cell_type": "code",
   "execution_count": 23,
   "id": "696f0d59",
   "metadata": {
    "execution": {
     "iopub.execute_input": "2021-11-24T18:38:26.827223Z",
     "iopub.status.busy": "2021-11-24T18:38:26.825932Z",
     "iopub.status.idle": "2021-11-24T18:38:27.027299Z",
     "shell.execute_reply": "2021-11-24T18:38:27.026111Z"
    },
    "papermill": {
     "duration": 0.355504,
     "end_time": "2021-11-24T18:38:27.027409",
     "exception": false,
     "start_time": "2021-11-24T18:38:26.671905",
     "status": "completed"
    },
    "tags": [],
    "vscode": {
     "languageId": "r"
    }
   },
   "outputs": [
    {
     "data": {
      "text/html": [
       "<table class=\"dataframe\">\n",
       "<caption>A tibble: 6 × 2</caption>\n",
       "<thead>\n",
       "\t<tr><th scope=col>start_station_name</th><th scope=col>number_of_starts</th></tr>\n",
       "\t<tr><th scope=col>&lt;chr&gt;</th><th scope=col>&lt;int&gt;</th></tr>\n",
       "</thead>\n",
       "<tbody>\n",
       "\t<tr><td><span style=white-space:pre-wrap>Streeter Dr &amp; Grand Ave   </span></td><td>25790</td></tr>\n",
       "\t<tr><td>Lake Shore Dr &amp; Monroe St </td><td>19751</td></tr>\n",
       "\t<tr><td>Millennium Park           </td><td>18275</td></tr>\n",
       "\t<tr><td>Theater on the Lake       </td><td>14394</td></tr>\n",
       "\t<tr><td><span style=white-space:pre-wrap>Michigan Ave &amp; Oak St     </span></td><td>13092</td></tr>\n",
       "\t<tr><td>Lake Shore Dr &amp; North Blvd</td><td>12713</td></tr>\n",
       "</tbody>\n",
       "</table>\n"
      ],
      "text/latex": [
       "A tibble: 6 × 2\n",
       "\\begin{tabular}{ll}\n",
       " start\\_station\\_name & number\\_of\\_starts\\\\\n",
       " <chr> & <int>\\\\\n",
       "\\hline\n",
       "\t Streeter Dr \\& Grand Ave    & 25790\\\\\n",
       "\t Lake Shore Dr \\& Monroe St  & 19751\\\\\n",
       "\t Millennium Park            & 18275\\\\\n",
       "\t Theater on the Lake        & 14394\\\\\n",
       "\t Michigan Ave \\& Oak St      & 13092\\\\\n",
       "\t Lake Shore Dr \\& North Blvd & 12713\\\\\n",
       "\\end{tabular}\n"
      ],
      "text/markdown": [
       "\n",
       "A tibble: 6 × 2\n",
       "\n",
       "| start_station_name &lt;chr&gt; | number_of_starts &lt;int&gt; |\n",
       "|---|---|\n",
       "| Streeter Dr &amp; Grand Ave    | 25790 |\n",
       "| Lake Shore Dr &amp; Monroe St  | 19751 |\n",
       "| Millennium Park            | 18275 |\n",
       "| Theater on the Lake        | 14394 |\n",
       "| Michigan Ave &amp; Oak St      | 13092 |\n",
       "| Lake Shore Dr &amp; North Blvd | 12713 |\n",
       "\n"
      ],
      "text/plain": [
       "  start_station_name         number_of_starts\n",
       "1 Streeter Dr & Grand Ave    25790           \n",
       "2 Lake Shore Dr & Monroe St  19751           \n",
       "3 Millennium Park            18275           \n",
       "4 Theater on the Lake        14394           \n",
       "5 Michigan Ave & Oak St      13092           \n",
       "6 Lake Shore Dr & North Blvd 12713           "
      ]
     },
     "metadata": {},
     "output_type": "display_data"
    }
   ],
   "source": [
    "## Determine the most popular start station for casual riders\n",
    "\n",
    "popular_start_stations_casual <- tripdata_2020_v3 %>% \n",
    "  filter(member_casual == 'casual') %>% \n",
    "  group_by(start_station_name) %>% \n",
    "  summarise(number_of_starts = n()) %>% \n",
    "  filter(start_station_name != \"\") %>% \n",
    "  arrange(- number_of_starts)\n",
    "\n",
    "head(popular_start_stations_casual)"
   ]
  },
  {
   "cell_type": "markdown",
   "id": "9523f9d7",
   "metadata": {
    "papermill": {
     "duration": 0.149891,
     "end_time": "2021-11-24T18:38:27.326412",
     "exception": false,
     "start_time": "2021-11-24T18:38:27.176521",
     "status": "completed"
    },
    "tags": []
   },
   "source": [
    "From the analysis we can determine that:\n",
    "\n",
    "* There were more members(2009756) than casual riders(1278811) in the year 2020.\n",
    "\n",
    "* Casual riders(48.27 mins) had a higher average ride length than members(15.75 mins).\n",
    "\n",
    "* Casual riders had the longest ride time being 156450.40 mins or 2608 hours.\n",
    "\n",
    "* The most popular day for bike sharing was Saturday.\n",
    "\n",
    "* The most popular day for casual riders was Saturday with an average ride length of 49.18 mins.\n",
    "\n",
    "* The most popular day for members was Wednesday with an average ride length of 14.73 mins\n",
    "\n",
    "* The most popular month was August with 605746 rides with an average ride duration of 29.45 mins.\n",
    "\n",
    "* The least popular month was December with 23295 rides with an average ride duration of 17.90 mins.\n",
    "\n",
    "* The most popular start station overall was \"Streeter Dr & Grand Ave\".\n",
    "\n",
    "* The most popular start station for members was \"Clark St & Elm St\" with 19195 trips starting from here.\n",
    "\n",
    "* The most popular start station for casual riders was \"Streeter Dr & Grand Ave\" with 25790 trips starting from here.  \n",
    "\n"
   ]
  },
  {
   "cell_type": "code",
   "execution_count": 24,
   "id": "96515703",
   "metadata": {
    "_kg_hide-input": true,
    "execution": {
     "iopub.execute_input": "2021-11-24T18:38:27.629793Z",
     "iopub.status.busy": "2021-11-24T18:38:27.629119Z",
     "iopub.status.idle": "2021-11-24T18:39:31.445784Z",
     "shell.execute_reply": "2021-11-24T18:39:31.443363Z"
    },
    "papermill": {
     "duration": 63.970918,
     "end_time": "2021-11-24T18:39:31.445974",
     "exception": false,
     "start_time": "2021-11-24T18:38:27.475056",
     "status": "completed"
    },
    "tags": [],
    "vscode": {
     "languageId": "r"
    }
   },
   "outputs": [],
   "source": [
    "## Saving clean data frame as CSV so it can be uploaded to tableau for additional visualisation \n",
    "\n",
    "tripdata_2020_v3 %>%\n",
    " write.csv(\"tripdata_2020_clean.csv\")"
   ]
  },
  {
   "cell_type": "markdown",
   "id": "192ade0c",
   "metadata": {
    "papermill": {
     "duration": 0.152839,
     "end_time": "2021-11-24T18:39:31.856777",
     "exception": false,
     "start_time": "2021-11-24T18:39:31.703938",
     "status": "completed"
    },
    "tags": []
   },
   "source": [
    "# Share"
   ]
  },
  {
   "cell_type": "markdown",
   "id": "2d982727",
   "metadata": {
    "papermill": {
     "duration": 0.160543,
     "end_time": "2021-11-24T18:39:32.171274",
     "exception": false,
     "start_time": "2021-11-24T18:39:32.010731",
     "status": "completed"
    },
    "tags": []
   },
   "source": [
    "## Guiding questions\n",
    "\n",
    "● Were you able to answer the question of how annual members and casual riders use Cyclistic bikes differently? \n",
    "\n",
    "Yes, we were able to determine a number of differences between casual riders and annual members.\n",
    "\n",
    "● What story does your data tell? \n",
    "\n",
    "The data tells us that there are a large number of casual riders who have a higher average of ride duration. This is a potential target for the digital marketing campaign.\n",
    "\n",
    "● How do your findings relate to your original question? \n",
    "\n",
    "The data answered all the original questions. \n",
    "\n",
    "1. How do annual members and casual riders use Cyclistic bikes differently?\n",
    "\n",
    "We determined a variety of differences between the two groups.\n",
    "\n",
    "2. Why would casual riders buy Cyclistic annual memberships?\n",
    "\n",
    "Casual members would buy the annual membership as they on average use the bikes for longer than members and the longest individual ride was also by a casual member.\n",
    "\n",
    "3. How can Cyclistic use digital media to influence casual riders to become members?\n",
    "\n",
    "A digital media campaign with a focus on the benefits of a membership aimed at the casual rider who are using the bikes for long durations.\n",
    "\n",
    "● Who is your audience? What is the best way to communicate with them? \n",
    "\n",
    "My audience is the key stakeholders identified earlier. They are Lily Moreno and the Cyclistic marketing analytics team.\n",
    "\n",
    "● Can data visualization help you share your findings? \n",
    "\n",
    "Data visualisation provided a visual comparison of the differences between the two groups. This allows the stakeholders to quickly and easily understand the analysis.\n",
    "\n",
    "● Is your presentation accessible to your audience?\n",
    "\n",
    "The presentation is available upon request but is not freely available. This notebook with the analysis is however accessible."
   ]
  },
  {
   "cell_type": "markdown",
   "id": "e6da13a5",
   "metadata": {
    "papermill": {
     "duration": 0.183014,
     "end_time": "2021-11-24T18:39:32.511489",
     "exception": false,
     "start_time": "2021-11-24T18:39:32.328475",
     "status": "completed"
    },
    "tags": []
   },
   "source": [
    "## Key tasks\n",
    "\n",
    "1. Determine the best way to share your findings. - Completed\n",
    "\n",
    "2. Create effective data visualizations. - Completed\n",
    "\n",
    "3. Present your findings. - Completed\n",
    "\n",
    "4. Ensure your work is accessible. - Completed"
   ]
  },
  {
   "cell_type": "markdown",
   "id": "7c159f1d",
   "metadata": {
    "papermill": {
     "duration": 0.284034,
     "end_time": "2021-11-24T18:39:33.080922",
     "exception": false,
     "start_time": "2021-11-24T18:39:32.796888",
     "status": "completed"
    },
    "tags": []
   },
   "source": [
    "## Deliverable\n",
    "\n",
    "Supporting visualizations and key findings"
   ]
  },
  {
   "cell_type": "markdown",
   "id": "aa5c5ae6",
   "metadata": {
    "papermill": {
     "duration": 0.287318,
     "end_time": "2021-11-24T18:39:33.698425",
     "exception": false,
     "start_time": "2021-11-24T18:39:33.411107",
     "status": "completed"
    },
    "tags": []
   },
   "source": [
    "### Data visualisation in R"
   ]
  },
  {
   "cell_type": "code",
   "execution_count": 25,
   "id": "1605af8f",
   "metadata": {
    "execution": {
     "iopub.execute_input": "2021-11-24T18:39:34.271994Z",
     "iopub.status.busy": "2021-11-24T18:39:34.271140Z",
     "iopub.status.idle": "2021-11-24T18:39:34.894332Z",
     "shell.execute_reply": "2021-11-24T18:39:34.894871Z"
    },
    "papermill": {
     "duration": 0.916522,
     "end_time": "2021-11-24T18:39:34.895037",
     "exception": false,
     "start_time": "2021-11-24T18:39:33.978515",
     "status": "completed"
    },
    "tags": [],
    "vscode": {
     "languageId": "r"
    }
   },
   "outputs": [
    {
     "data": {
      "image/png": "[encoded data removed]"
     },
     "metadata": {
      "image/png": {
       "height": 420,
       "width": 420
      }
     },
     "output_type": "display_data"
    }
   ],
   "source": [
    "## Visualization of the rider types\n",
    "\n",
    "tripdata_2020_v3 %>% \n",
    "  group_by(member_casual) %>% \n",
    "  summarise(total_rider_type = n()) %>% \n",
    "  ggplot(aes(x = member_casual, y = total_rider_type, fill = member_casual)) + \n",
    "  geom_col(position = \"dodge\") + geom_text(aes(label = total_rider_type, vjust = -0.25))"
   ]
  },
  {
   "cell_type": "code",
   "execution_count": 26,
   "id": "d24dce23",
   "metadata": {
    "execution": {
     "iopub.execute_input": "2021-11-24T18:39:35.460195Z",
     "iopub.status.busy": "2021-11-24T18:39:35.459059Z",
     "iopub.status.idle": "2021-11-24T18:39:35.883354Z",
     "shell.execute_reply": "2021-11-24T18:39:35.882894Z"
    },
    "papermill": {
     "duration": 0.708532,
     "end_time": "2021-11-24T18:39:35.883456",
     "exception": false,
     "start_time": "2021-11-24T18:39:35.174924",
     "status": "completed"
    },
    "tags": [],
    "vscode": {
     "languageId": "r"
    }
   },
   "outputs": [
    {
     "name": "stderr",
     "output_type": "stream",
     "text": [
      "Don't know how to automatically pick scale for object of type difftime. Defaulting to continuous.\n",
      "\n",
      "Don't know how to automatically pick scale for object of type difftime. Defaulting to continuous.\n",
      "\n"
     ]
    },
    {
     "data": {
      "image/png": "[encoded data removed]"
     },
     "metadata": {
      "image/png": {
       "height": 420,
       "width": 420
      }
     },
     "output_type": "display_data"
    }
   ],
   "source": [
    "## Visualization of the rider types ride duration\n",
    "\n",
    "rider_type_average_duration <- tripdata_2020_v3 %>% \n",
    "  group_by(member_casual) %>% \n",
    "  summarize(average_ride_length = mean(ride_length))\n",
    "\n",
    "rider_type_average_duration %>% \n",
    "  ggplot(aes(x = member_casual, y = average_ride_length, fill = member_casual)) +\n",
    "  geom_col(position = \"dodge\") + geom_text(aes(label = average_ride_length, vjust = -0.25))"
   ]
  },
  {
   "cell_type": "code",
   "execution_count": 27,
   "id": "12e0431a",
   "metadata": {
    "execution": {
     "iopub.execute_input": "2021-11-24T18:39:36.201852Z",
     "iopub.status.busy": "2021-11-24T18:39:36.200875Z",
     "iopub.status.idle": "2021-11-24T18:39:36.641517Z",
     "shell.execute_reply": "2021-11-24T18:39:36.640959Z"
    },
    "papermill": {
     "duration": 0.600419,
     "end_time": "2021-11-24T18:39:36.641615",
     "exception": false,
     "start_time": "2021-11-24T18:39:36.041196",
     "status": "completed"
    },
    "tags": [],
    "vscode": {
     "languageId": "r"
    }
   },
   "outputs": [
    {
     "name": "stderr",
     "output_type": "stream",
     "text": [
      "`summarise()` has grouped output by 'member_casual'. You can override using the `.groups` argument.\n",
      "\n",
      "Don't know how to automatically pick scale for object of type difftime. Defaulting to continuous.\n",
      "\n"
     ]
    },
    {
     "data": {
      "image/png": "[encoded data removed]"
     },
     "metadata": {
      "image/png": {
       "height": 420,
       "width": 420
      }
     },
     "output_type": "display_data"
    }
   ],
   "source": [
    "## Visualization of the usage by members and casual riders by the weekday\n",
    "\n",
    "tripdata_2020_v3 %>% \n",
    "  group_by(member_casual, day_of_week) %>% \n",
    "  summarise(number_of_rides = n(),average_duration = mean(ride_length)) %>% \n",
    "  arrange(member_casual, day_of_week)  %>% \n",
    "  ggplot(aes(x = day_of_week, y = average_duration, fill = member_casual)) +\n",
    "  geom_col(position = \"dodge\")"
   ]
  },
  {
   "cell_type": "code",
   "execution_count": 28,
   "id": "f6eec7a7",
   "metadata": {
    "execution": {
     "iopub.execute_input": "2021-11-24T18:39:36.961362Z",
     "iopub.status.busy": "2021-11-24T18:39:36.959569Z",
     "iopub.status.idle": "2021-11-24T18:39:38.871418Z",
     "shell.execute_reply": "2021-11-24T18:39:38.871932Z"
    },
    "papermill": {
     "duration": 2.073932,
     "end_time": "2021-11-24T18:39:38.872092",
     "exception": false,
     "start_time": "2021-11-24T18:39:36.798160",
     "status": "completed"
    },
    "tags": [],
    "vscode": {
     "languageId": "r"
    }
   },
   "outputs": [
    {
     "name": "stderr",
     "output_type": "stream",
     "text": [
      "`summarise()` has grouped output by 'member_casual'. You can override using the `.groups` argument.\n",
      "\n"
     ]
    },
    {
     "data": {
      "image/png": "[encoded data removed]"
     },
     "metadata": {
      "image/png": {
       "height": 420,
       "width": 420
      }
     },
     "output_type": "display_data"
    }
   ],
   "source": [
    "## Visualization of the number of trips by members and casual riders by the weekday\n",
    "\n",
    "\n",
    "tripdata_2020_v3 %>% \n",
    "  group_by(member_casual, day_of_week) %>% \n",
    "  summarise(number_of_rides = n(),average_duration = mean(ride_length)) %>% \n",
    "  arrange(member_casual, day_of_week)  %>% \n",
    "  ggplot(aes(x = day_of_week, y = number_of_rides, fill = member_casual)) +\n",
    "  geom_col(position = \"dodge\")"
   ]
  },
  {
   "cell_type": "code",
   "execution_count": 29,
   "id": "6d4072c4",
   "metadata": {
    "execution": {
     "iopub.execute_input": "2021-11-24T18:39:39.471223Z",
     "iopub.status.busy": "2021-11-24T18:39:39.469804Z",
     "iopub.status.idle": "2021-11-24T18:39:39.971174Z",
     "shell.execute_reply": "2021-11-24T18:39:39.971543Z"
    },
    "papermill": {
     "duration": 0.804369,
     "end_time": "2021-11-24T18:39:39.971672",
     "exception": false,
     "start_time": "2021-11-24T18:39:39.167303",
     "status": "completed"
    },
    "tags": [],
    "vscode": {
     "languageId": "r"
    }
   },
   "outputs": [
    {
     "name": "stderr",
     "output_type": "stream",
     "text": [
      "`summarise()` has grouped output by 'member_casual'. You can override using the `.groups` argument.\n",
      "\n",
      "Don't know how to automatically pick scale for object of type difftime. Defaulting to continuous.\n",
      "\n"
     ]
    },
    {
     "data": {
      "image/png": "[encoded data removed]"
     },
     "metadata": {
      "image/png": {
       "height": 420,
       "width": 420
      }
     },
     "output_type": "display_data"
    }
   ],
   "source": [
    "## Visualization of the usage by members and casual riders by the month\n",
    "\n",
    "tripdata_2020_v3$month <- ordered(tripdata_2020_v3$month, levels=c(\"Jan\", \"Feb\", \"Mar\", \"Apr\", \"May\", \"Jun\", \"Jul\", \"Aug\", \"Sep\", \"Oct\", \"Nov\", \"Dec\"))\n",
    "\n",
    "tripdata_2020_v3 %>% \n",
    "  group_by(member_casual, month) %>% \n",
    "  summarise(number_of_rides = n(),average_duration = mean(ride_length) ) %>% \n",
    "  arrange(member_casual, month)  %>% \n",
    "  ggplot(aes(x = month, y = average_duration, fill = member_casual)) +\n",
    "  geom_col(position = \"dodge\") +\n",
    "  geom_text(aes(label = number_of_rides, angle = 90)) +\n",
    "  facet_wrap(~member_casual)"
   ]
  },
  {
   "cell_type": "code",
   "execution_count": 30,
   "id": "76e88c4d",
   "metadata": {
    "execution": {
     "iopub.execute_input": "2021-11-24T18:39:40.312555Z",
     "iopub.status.busy": "2021-11-24T18:39:40.311725Z",
     "iopub.status.idle": "2021-11-24T18:39:40.729393Z",
     "shell.execute_reply": "2021-11-24T18:39:40.729774Z"
    },
    "papermill": {
     "duration": 0.590707,
     "end_time": "2021-11-24T18:39:40.729900",
     "exception": false,
     "start_time": "2021-11-24T18:39:40.139193",
     "status": "completed"
    },
    "tags": [],
    "vscode": {
     "languageId": "r"
    }
   },
   "outputs": [
    {
     "name": "stderr",
     "output_type": "stream",
     "text": [
      "`summarise()` has grouped output by 'member_casual'. You can override using the `.groups` argument.\n",
      "\n"
     ]
    },
    {
     "data": {
      "image/png": "[encoded data removed]"
     },
     "metadata": {
      "image/png": {
       "height": 420,
       "width": 420
      }
     },
     "output_type": "display_data"
    }
   ],
   "source": [
    "## Visualization of the number of trips by members and casual riders by the month\n",
    "\n",
    "\n",
    "tripdata_2020_v3 %>% \n",
    "  group_by(member_casual, month) %>% \n",
    "  summarise(number_of_rides = n()) %>% \n",
    "  arrange(member_casual, month)  %>% \n",
    "  ggplot(aes(x = month, y = number_of_rides, fill = member_casual)) +\n",
    "  geom_col(position = \"dodge\") +\n",
    "  geom_text(aes(label = number_of_rides, angle = 90)) +\n",
    "  facet_wrap(~member_casual)"
   ]
  },
  {
   "cell_type": "markdown",
   "id": "1e5a6515",
   "metadata": {
    "papermill": {
     "duration": 0.172095,
     "end_time": "2021-11-24T18:39:41.072595",
     "exception": false,
     "start_time": "2021-11-24T18:39:40.900500",
     "status": "completed"
    },
    "tags": []
   },
   "source": [
    "# Act"
   ]
  },
  {
   "cell_type": "markdown",
   "id": "a410c76d",
   "metadata": {
    "papermill": {
     "duration": 0.169299,
     "end_time": "2021-11-24T18:39:41.412815",
     "exception": false,
     "start_time": "2021-11-24T18:39:41.243516",
     "status": "completed"
    },
    "tags": []
   },
   "source": [
    "## Guiding questions \n",
    "\n",
    "● What is your final conclusion based on your analysis?\n",
    "\n",
    "There is an opportunity for Cyclistic to turn casual riders into annual members. There are casual riders who are using the bike sharing more so than the annual members and with a targeted digital marketing campaign they can convert them to members. \n",
    "\n",
    "● How could your team and business apply your insights?\n",
    "\n",
    "A target digital marketing campaign aimed at long use casual riders. The campaign would focus on the benefits of being a member over a casual rider for longer rides.\n",
    "\n",
    "● What next steps would you or your stakeholders take based on your findings? \n",
    "\n",
    "I would recommend a more in-depth analysis on the long use casual riders however there is enough data to support a digital marketing campaign.\n",
    "\n",
    "● Is there additional data you could use to expand on your findings?\n",
    "\n",
    "Additional data that would expand the findings would include: demographic data, climate data, financial data, and marketing campaign history with there ROI."
   ]
  },
  {
   "cell_type": "markdown",
   "id": "a36630a2",
   "metadata": {
    "papermill": {
     "duration": 0.166429,
     "end_time": "2021-11-24T18:39:41.748978",
     "exception": false,
     "start_time": "2021-11-24T18:39:41.582549",
     "status": "completed"
    },
    "tags": []
   },
   "source": [
    "## Key tasks \n",
    "\n",
    "1. Create your portfolio. - Completed\n",
    "\n",
    "2. Add your case study. - Completed \n",
    "\n",
    "3. Practice presenting your case study to a friend or family member. - Completed"
   ]
  },
  {
   "cell_type": "markdown",
   "id": "f71a5140",
   "metadata": {
    "papermill": {
     "duration": 0.170761,
     "end_time": "2021-11-24T18:39:42.087772",
     "exception": false,
     "start_time": "2021-11-24T18:39:41.917011",
     "status": "completed"
    },
    "tags": []
   },
   "source": [
    "## Deliverable\n",
    "\n",
    "Your top three recommendations based on your analysis.\n",
    "\n",
    "1. Educate casual riders on the perks of memberships as a lack of knowledge can be the reason for the long usage by casual riders\n",
    "\n",
    "2. An ad campaign at the popular start stations for casual riders can increase engagement or interest in memberships\n",
    "\n",
    "3. A campaign to increase the usage by members especially in the less popular months could increase the number of trips. This campaign should provide benefits or rewards for continued usage with a focus on the less popular months."
   ]
  },
  {
   "cell_type": "markdown",
   "id": "5c03bce0",
   "metadata": {
    "papermill": {
     "duration": 0.169893,
     "end_time": "2021-11-24T18:39:42.427131",
     "exception": false,
     "start_time": "2021-11-24T18:39:42.257238",
     "status": "completed"
    },
    "tags": []
   },
   "source": [
    "# Conclusion\n",
    "\n",
    "Cyclistic has the potential to grow its membership through digital marketing if it targets the correct users. It must be noted however that the lower number of casual riders during 2020 could have been due to the pandemic and lockdown's placed by governments. With this however there was still a demand for bike sharing which cleary shows that Cyclistic is offering a needed service and with proper management and marketing can improve membership. I would like to thank the creators of the [Google Data Analytics Professional Certificate](http://www.coursera.org/professional-certificates/google-data-analytics?utm_source=gg&utm_medium=sem&utm_campaign=15-GoogleDataAnalytics-LATAM&utm_content=15-GoogleDataAnalytics-LATAM&campaignid=12686019520&adgroupid=120140812253&device=c&keyword=google%20analytics%20course&matchtype=b&network=g&devicemodel=&adpostion=&creativeid=512414119178&hide_mobile_promo&gclid=EAIaIQobChMIwPGyn7f68AIVAgyRCh2nCwfVEAAYAyAAEgKjpvD_BwE) for giving me the skills and context to complete my first ever data project and I highly recommend it to other beginners. "
   ]
  },
  {
   "cell_type": "markdown",
   "id": "8a004271",
   "metadata": {},
   "source": []
  }
 ],
 "metadata": {
  "kernelspec": {
   "display_name": "R",
   "language": "R",
   "name": "ir"
  },
  "language_info": {
   "codemirror_mode": "r",
   "file_extension": ".r",
   "mimetype": "text/x-r-source",
   "name": "R",
   "pygments_lexer": "r",
   "version": "4.0.5"
  },
  "papermill": {
   "default_parameters": {},
   "duration": 257.545587,
   "end_time": "2021-11-24T18:39:42.909426",
   "environment_variables": {},
   "exception": null,
   "input_path": "__notebook__.ipynb",
   "output_path": "__notebook__.ipynb",
   "parameters": {},
   "start_time": "2021-11-24T18:35:25.363839",
   "version": "2.3.3"
  }
 },
 "nbformat": 4,
 "nbformat_minor": 5
}
